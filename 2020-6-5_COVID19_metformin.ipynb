{
 "cells": [
  {
   "cell_type": "markdown",
   "metadata": {},
   "source": [
    "# Analysis of the effect of Metforlim on COVID-19 mortality"
   ]
  },
  {
   "cell_type": "markdown",
   "metadata": {},
   "source": [
    "### Load and clean data.table"
   ]
  },
  {
   "cell_type": "code",
   "execution_count": 47,
   "metadata": {},
   "outputs": [],
   "source": [
    "options(warn=-1)\n",
    "\n",
    "homedir <- \"C:/Users/breng/Dropbox/COVID19 metformin\"\n",
    "fname <- \"./data/2020.5.13 English DM COVID19 Spreadsheet.csv\"\n",
    "funcsfile <- \"COVID_functions.r\"\n",
    "\n",
    "setwd(homedir)\n",
    "source(funcsfile)\n",
    "\n",
    "suppressMessages({\n",
    "    library(Matching)\n",
    "    library(rbounds)\n",
    "    library(data.table)\n",
    "    library(ggplot2)\n",
    "    library(ggpubr)\n",
    "    library(dplyr)\n",
    "    library(gridExtra)\n",
    "    library(utils)\n",
    "})"
   ]
  },
  {
   "cell_type": "markdown",
   "metadata": {},
   "source": [
    "### Load and clean dataset"
   ]
  },
  {
   "cell_type": "code",
   "execution_count": 48,
   "metadata": {},
   "outputs": [],
   "source": [
    "dt <- fread(fname)[,c(1:12,14,16,18:32,13,15,17,33:52)]\n",
    "colnames(dt)[3] <- \"ID\"\n",
    "names(dt) <- gsub(\" \", \"_\", tolower(names(dt)))\n",
    "#### convert outcome to a numeric column\n",
    "dt[,outcome:=ifelse(outcome==\"D\",0,1)]\n",
    "#### convert columns into numeric column\n",
    "dt[,c(\"weight\",\"o2_saturation\",\"hba1c\") := .(as.numeric(weight),\n",
    "                                             as.numeric(gsub(\"%\",\"\",o2_saturation)),\n",
    "                                             as.numeric(gsub(\"%\",\"\",hba1c)))]\n",
    "#### Convert columns into binary classifiers\n",
    "dt[,c(\"secretagogues_b\", \"secretagogues_a\", \"glycosidase_inhibitors_b\",\n",
    "      \"glycosidase_inhibitors_a\", \"dpp4_inhibitor_b\", \"dpp4_inhibitor_a\",\n",
    "      \"tzd_b\", \"tzd_a\", \"meds_acei_arb\", \"statins\", \"life_style_modification\",\n",
    "     \"cad_meds\", \"procalcitonin\") := .(ifelse(secretagogues_b!='',\"Y\",\"N\"),\n",
    "                                                         ifelse(secretagogues_a!='',\"Y\",\"N\"),\n",
    "                                                         ifelse(glycosidase_inhibitors_b!='',\"Y\",\"N\"),\n",
    "                                                         ifelse(glycosidase_inhibitors_a!='',\"Y\",\"N\"),\n",
    "                                                         ifelse(dpp4_inhibitor_b!='',\"Y\",\"N\"),\n",
    "                                                         ifelse(dpp4_inhibitor_a!='',\"Y\",\"N\"),\n",
    "                                                         ifelse(tzd_b!='',\"Y\",\"N\"),\n",
    "                                                         ifelse(tzd_a!='',\"Y\",\"N\"),\n",
    "                                                         ifelse(meds_acei_arb!='',\"Y\",\"N\"),\n",
    "                                                         ifelse(statins!='',\"Y\",\"N\"),\n",
    "                                                         ifelse(life_style_modification!='',\"Y\",\"N\"),\n",
    "                                                         ifelse(cad_meds!='',\"Y\",\"N\"),\n",
    "                                                         ifelse(procalcitonin!='',\"Y\",\"N\"))]\n",
    "dt[,c(\"smoking_history\") := .(ifelse(grepl(\"[0-9]\",smoking_history) | smoking_history==\"Y\",\"Y\",\"N\"))]\n",
    "dt[,c(\"hypertension\") := .(ifelse(grepl(\"[0-9]\",hypertension) | hypertension==\"Y\",\"Y\",\"N\"))]\n",
    "dt[,c(\"cad_years\") := .(ifelse(grepl(\"[0-9]\",cad_years) | cad_years==\"Y\",\"Y\",\"N\"))]\n",
    "#### clean missing values based on the information provided by the individuals who procured the dataset.\n",
    "dt[dt==''|dt==' ']<-\"N\"\n",
    "dt[dt=='N/A']<-NA\n",
    "#### remove these columns that are empty\n",
    "remove <- c(\"glp_1_a\", \"glp_1_b\", 'osa', 'sglt_2_inhibitor_a', 'sglt_2_inhibitor_b') \n",
    "dt <- dt[,! ..remove]\n",
    "#colnames(dt)\n",
    "#str(dt)"
   ]
  },
  {
   "cell_type": "markdown",
   "metadata": {},
   "source": [
    "## Section I: Explore data attributes "
   ]
  },
  {
   "cell_type": "markdown",
   "metadata": {},
   "source": [
    "### Obtain frequency counts in binomial categorical columns"
   ]
  },
  {
   "cell_type": "code",
   "execution_count": null,
   "metadata": {},
   "outputs": [],
   "source": [
    "bincols <- c(\"secretagogues_b\", \"secretagogues_a\", \"glycosidase_inhibitors_b\",\n",
    "             \"glycosidase_inhibitors_a\", \"dpp4_inhibitor_b\", \"dpp4_inhibitor_a\", \"metformin_b\", \"metformin_a\",\n",
    "             \"tzd_b\", \"tzd_a\", \"meds_acei_arb\", \"smoking_history\", \"hypertension\", \"cad_years\", \"statins\", \"steroid_use\", \n",
    "             \"life_style_modification\", \"cad_meds\")\n",
    "t(sapply(X = dt[, ..bincols], FUN = table)) "
   ]
  },
  {
   "cell_type": "code",
   "execution_count": null,
   "metadata": {
    "scrolled": true
   },
   "outputs": [],
   "source": [
    "contcols <- c(\"outcome\", \"new_number\", \"id\", \"mrn\")\n",
    "f <- function(b) head(freqsdt(\"dt\",b), 2)\n",
    "lapply(contcols,f)"
   ]
  },
  {
   "cell_type": "markdown",
   "metadata": {},
   "source": [
    "### Assess distribution of numeric columns"
   ]
  },
  {
   "cell_type": "code",
   "execution_count": null,
   "metadata": {
    "scrolled": true
   },
   "outputs": [],
   "source": [
    "cols <- c(6, 9:12,17, 19:24, 26:27)\n",
    "summary(dt[,cols, with = FALSE])"
   ]
  },
  {
   "cell_type": "markdown",
   "metadata": {},
   "source": [
    "#### Conclusions from these analysis demonstrate that there is a limited sample size for the number of variables being assesses. Therefore, this dataset cannot be partitioned into tresting and training datasets, and thus, model validation cannot be conducted to rule out spurious correlations or perform predicive modeling. We also conclude that there was no discontinuation or addition of metformin therapy to any particular patients upon hospital admission. "
   ]
  },
  {
   "cell_type": "markdown",
   "metadata": {},
   "source": [
    "# Section II: Explore statistical relationships between variables\n",
    "## Analyze the significance of all univariant models on outcome (survival)"
   ]
  },
  {
   "cell_type": "code",
   "execution_count": null,
   "metadata": {
    "scrolled": true
   },
   "outputs": [],
   "source": [
    "dt_sub <- dt[,c(5:6,9:17, 19:24, 26:27, 29:45,47)]\n",
    "k <- 1:length(colnames(dt_sub))-1\n",
    "univariantglmR(dt_sub, key = k, significant = \"F\")\n",
    "univariantglmR(dt_sub, key = k, significant = \"T\")"
   ]
  },
  {
   "cell_type": "markdown",
   "metadata": {},
   "source": [
    "#### These data indicate that age, length of hospital stay, O2 saturation, glucose, crp, d_dimer, metformin, glycosidase inhibitors, and steroid use were all predictors of death or survival outcome in diabetic patients admitted to the hospital with COVID-19."
   ]
  },
  {
   "cell_type": "markdown",
   "metadata": {},
   "source": [
    "## Identify any variables that might confound metformin administration as a predictor of outcome."
   ]
  },
  {
   "cell_type": "markdown",
   "metadata": {},
   "source": [
    "### 1) Use Metformin as a dependent variable and run univariant logistic regressions to identify potential confounding variables of metformin therapy on reducing mortality."
   ]
  },
  {
   "cell_type": "code",
   "execution_count": null,
   "metadata": {
    "scrolled": true
   },
   "outputs": [],
   "source": [
    "dt_sub1 <- dt[,c(5:6,9:17, 19:24, 26:27, 29:45)][,outcome := metformin_b][,metformin_b := NULL]\n",
    "dt_sub1[,outcome:=ifelse(outcome==\"Y\",1,0)] # transform metformin_b into a binary numeric column\n",
    "k <- 1:length(colnames(dt_sub1))-1\n",
    "univariantglmR(dt_sub1, key = k, significant = \"F\")\n",
    "univariantglmR(dt_sub1, key = k, significant = \"T\")"
   ]
  },
  {
   "cell_type": "markdown",
   "metadata": {},
   "source": [
    "### 2) Conduct multivariant analyses predicting survival or death outcome (dependent variable) using metformin in combination with a second independent variable"
   ]
  },
  {
   "cell_type": "code",
   "execution_count": null,
   "metadata": {
    "scrolled": true
   },
   "outputs": [],
   "source": [
    "check_column <- 25\n",
    "combs <- data.table(t(combn(x = (ncol(dt_sub)-1), m=2, simplify = TRUE)))[V1 == check_column | V2 == check_column,]\n",
    "k <- paste(combs$V1, combs$V2, sep = \"_\");#k\n",
    "glmcompileR(DT = dt_sub, key = k, significant = \"F\")[!names == 'metformin_bY',]\n",
    "glmcompileR(DT = dt_sub, key = k, significant = \"T\")#[!names == 'metformin_bY',]\n",
    "glmcompileR(DT = dt_sub, key = k, significant = \"T\")[!names == 'metformin_bY',]"
   ]
  },
  {
   "cell_type": "markdown",
   "metadata": {},
   "source": [
    "#### In summary, these analyses suggest that hba1c, steroid_use, length of hospital stay, O2 saturation, glucose, crp, d_dimmer, and glycosidase inhibitors may be confound metformin therapy on predicting survival outcome. \n",
    "\n",
    "#### Of these variables, O2 saturation, glucose and crp are physiological measurements that metformin may influence. For example, metformin lowers blood glucose and crp. Also, according to our hypothesis, metformin administration may increase O2 saturation. This hypothesis is supported by the observation that metformin remains a significant independent variable that predicts survival in combination with glucose or crp. \n",
    "\n",
    "#### To verify if this is the case, we will analyze if metformin therapy can predict other medications."
   ]
  },
  {
   "cell_type": "code",
   "execution_count": null,
   "metadata": {},
   "outputs": [],
   "source": [
    "dt_sub2 <- dt"
   ]
  },
  {
   "cell_type": "code",
   "execution_count": null,
   "metadata": {},
   "outputs": [],
   "source": [
    "#### change Y/N binary columns into 1,0 numeric columns. \n",
    "dt_sub2 <- dt_sub2[,c(\"secretagogues_b\", \"secretagogues_a\", \"glycosidase_inhibitors_b\",\n",
    "     \"glycosidase_inhibitors_a\", \"dpp4_inhibitor_b\", \"dpp4_inhibitor_a\",\n",
    "     \"tzd_b\", \"tzd_a\", \"meds_acei_arb\", \"statins\", \"life_style_modification\",\n",
    "     \"cad_meds\", \"smoking_history\", \"hypertension\", \"cad_years\",\"procalcitonin\", \n",
    "     \"hyperlipidemia\", \"insulin_b\", \"insulin_a\", \"steroid_use\") := .(ifelse(dt_sub2$secretagogues_b=='Y',1,0),\n",
    "                                                         ifelse(dt_sub2$secretagogues_a=='Y',1,0),\n",
    "                                                         ifelse(dt_sub2$glycosidase_inhibitors_b=='Y',1,0),\n",
    "                                                         ifelse(dt_sub2$glycosidase_inhibitors_a=='Y',1,0),\n",
    "                                                         ifelse(dt_sub2$dpp4_inhibitor_b=='Y',1,0),\n",
    "                                                         ifelse(dt_sub2$dpp4_inhibitor_a=='Y',1,0),\n",
    "                                                         ifelse(dt_sub2$tzd_b=='Y',1,0),\n",
    "                                                         ifelse(dt_sub2$tzd_a=='Y',1,0),\n",
    "                                                         ifelse(dt_sub2$meds_acei_arb=='Y',1,0),\n",
    "                                                         ifelse(dt_sub2$statins=='Y',1,0),\n",
    "                                                         ifelse(dt_sub2$life_style_modification=='Y',1,0),\n",
    "                                                         ifelse(dt_sub2$cad_meds=='Y',1,0),\n",
    "                                                         ifelse(dt_sub2$smoking_history=='Y',1,0),\n",
    "                                                         ifelse(dt_sub2$hypertension=='Y',1,0),\n",
    "                                                         ifelse(dt_sub2$cad_years=='Y',1,0),\n",
    "                                                    ifelse(dt_sub2$procalcitonin=='Y',1,0),\n",
    "                                                    ifelse(dt_sub2$hyperlipidemia=='Y',1,0),\n",
    "                                                    ifelse(dt_sub2$insulin_b=='Y',1,0),\n",
    "                                                    ifelse(dt_sub2$insulin_a=='Y',1,0),\n",
    "                                                    ifelse(dt_sub2$steroid_use=='Y',1,0))][,c(13:16, 29:44)][,c(1:9, 11:15, 17:20, 10, 16)]\n"
   ]
  },
  {
   "cell_type": "code",
   "execution_count": 8,
   "metadata": {
    "scrolled": true
   },
   "outputs": [
    {
     "data": {
      "text/html": [
       "<ol class=list-inline>\n",
       "\t<li>1</li>\n",
       "\t<li>2</li>\n",
       "\t<li>3</li>\n",
       "\t<li>4</li>\n",
       "\t<li>5</li>\n",
       "\t<li>6</li>\n",
       "\t<li>7</li>\n",
       "\t<li>8</li>\n",
       "\t<li>9</li>\n",
       "\t<li>10</li>\n",
       "\t<li>11</li>\n",
       "\t<li>12</li>\n",
       "\t<li>13</li>\n",
       "\t<li>14</li>\n",
       "\t<li>15</li>\n",
       "\t<li>16</li>\n",
       "\t<li>17</li>\n",
       "\t<li>18</li>\n",
       "</ol>\n"
      ],
      "text/latex": [
       "\\begin{enumerate*}\n",
       "\\item 1\n",
       "\\item 2\n",
       "\\item 3\n",
       "\\item 4\n",
       "\\item 5\n",
       "\\item 6\n",
       "\\item 7\n",
       "\\item 8\n",
       "\\item 9\n",
       "\\item 10\n",
       "\\item 11\n",
       "\\item 12\n",
       "\\item 13\n",
       "\\item 14\n",
       "\\item 15\n",
       "\\item 16\n",
       "\\item 17\n",
       "\\item 18\n",
       "\\end{enumerate*}\n"
      ],
      "text/markdown": [
       "1. 1\n",
       "2. 2\n",
       "3. 3\n",
       "4. 4\n",
       "5. 5\n",
       "6. 6\n",
       "7. 7\n",
       "8. 8\n",
       "9. 9\n",
       "10. 10\n",
       "11. 11\n",
       "12. 12\n",
       "13. 13\n",
       "14. 14\n",
       "15. 15\n",
       "16. 16\n",
       "17. 17\n",
       "18. 18\n",
       "\n",
       "\n"
      ],
      "text/plain": [
       " [1]  1  2  3  4  5  6  7  8  9 10 11 12 13 14 15 16 17 18"
      ]
     },
     "metadata": {},
     "output_type": "display_data"
    },
    {
     "name": "stdout",
     "output_type": "stream",
     "text": [
      "  |======================================================================| 100%\n"
     ]
    },
    {
     "data": {
      "text/html": [
       "<table>\n",
       "<caption>A data.table: 17 × 7</caption>\n",
       "<thead>\n",
       "\t<tr><th scope=col>Estimate</th><th scope=col>Std. Error</th><th scope=col>z value</th><th scope=col>Pr(&gt;|z|)</th><th scope=col>names</th><th scope=col>formula</th><th scope=col>Significance</th></tr>\n",
       "\t<tr><th scope=col>&lt;dbl&gt;</th><th scope=col>&lt;dbl&gt;</th><th scope=col>&lt;dbl&gt;</th><th scope=col>&lt;dbl&gt;</th><th scope=col>&lt;chr&gt;</th><th scope=col>&lt;chr&gt;</th><th scope=col>&lt;chr&gt;</th></tr>\n",
       "</thead>\n",
       "<tbody>\n",
       "\t<tr><td> 0.18190059</td><td>0.3884769</td><td> 0.4682404</td><td>0.63961269</td><td>metformin_bY</td><td>meds_acei_arb ~ metformin_b           </td><td>Not-Significant</td></tr>\n",
       "\t<tr><td>-0.08926786</td><td>0.6190628</td><td>-0.1441984</td><td>0.88534381</td><td>metformin_bY</td><td>statins ~ metformin_b                 </td><td>Not-Significant</td></tr>\n",
       "\t<tr><td> 0.01699758</td><td>0.8600968</td><td> 0.0197624</td><td>0.98423291</td><td>metformin_bY</td><td>smoking_history ~ metformin_b         </td><td>Not-Significant</td></tr>\n",
       "\t<tr><td>-0.08223810</td><td>0.4920928</td><td>-0.1671191</td><td>0.86727635</td><td>metformin_bY</td><td>cad_years ~ metformin_b               </td><td>Not-Significant</td></tr>\n",
       "\t<tr><td> 0.19633229</td><td>0.3980268</td><td> 0.4932640</td><td>0.62182607</td><td>metformin_bY</td><td>hypertension ~ metformin_b            </td><td>Not-Significant</td></tr>\n",
       "\t<tr><td>-0.41892426</td><td>0.6825314</td><td>-0.6137802</td><td>0.53936058</td><td>metformin_bY</td><td>hyperlipidemia ~ metformin_b          </td><td>Not-Significant</td></tr>\n",
       "\t<tr><td>-0.99884776</td><td>0.5311454</td><td>-1.8805544</td><td>0.06003256</td><td>metformin_bY</td><td>life_style_modification ~ metformin_b </td><td>Not-Significant</td></tr>\n",
       "\t<tr><td> 0.37561214</td><td>0.4675850</td><td> 0.8033025</td><td>0.42179993</td><td>metformin_bY</td><td>insulin_b ~ metformin_b               </td><td>Not-Significant</td></tr>\n",
       "\t<tr><td> 0.69451986</td><td>0.4858949</td><td> 1.4293624</td><td>0.15290011</td><td>metformin_bY</td><td>secretagogues_b ~ metformin_b         </td><td>Not-Significant</td></tr>\n",
       "\t<tr><td> 0.94908055</td><td>1.4277678</td><td> 0.6647303</td><td>0.50622299</td><td>metformin_bY</td><td>tzd_b ~ metformin_b                   </td><td>Not-Significant</td></tr>\n",
       "\t<tr><td> 0.51879379</td><td>0.4115817</td><td> 1.2604880</td><td>0.20749337</td><td>metformin_bY</td><td>glycosidase_inhibitors_b ~ metformin_b</td><td>Not-Significant</td></tr>\n",
       "\t<tr><td> 1.00330204</td><td>0.7357468</td><td> 1.3636512</td><td>0.17267736</td><td>metformin_bY</td><td>dpp4_inhibitor_b ~ metformin_b        </td><td>Not-Significant</td></tr>\n",
       "\t<tr><td> 0.07154715</td><td>0.4012297</td><td> 0.1783197</td><td>0.85847192</td><td>metformin_bY</td><td>insulin_a ~ metformin_b               </td><td>Not-Significant</td></tr>\n",
       "\t<tr><td> 0.44813155</td><td>0.4391856</td><td> 1.0203695</td><td>0.30755324</td><td>metformin_bY</td><td>secretagogues_a ~ metformin_b         </td><td>Not-Significant</td></tr>\n",
       "\t<tr><td> 1.67039861</td><td>1.2406911</td><td> 1.3463452</td><td>0.17819120</td><td>metformin_bY</td><td>tzd_a ~ metformin_b                   </td><td>Not-Significant</td></tr>\n",
       "\t<tr><td> 0.59465228</td><td>0.3916560</td><td> 1.5183025</td><td>0.12893815</td><td>metformin_bY</td><td>glycosidase_inhibitors_a ~ metformin_b</td><td>Not-Significant</td></tr>\n",
       "\t<tr><td> 1.23697072</td><td>0.6404278</td><td> 1.9314756</td><td>0.05342426</td><td>metformin_bY</td><td>dpp4_inhibitor_a ~ metformin_b        </td><td>Not-Significant</td></tr>\n",
       "</tbody>\n",
       "</table>\n"
      ],
      "text/latex": [
       "A data.table: 17 × 7\n",
       "\\begin{tabular}{r|lllllll}\n",
       " Estimate & Std. Error & z value & Pr(>\\textbar{}z\\textbar{}) & names & formula & Significance\\\\\n",
       " <dbl> & <dbl> & <dbl> & <dbl> & <chr> & <chr> & <chr>\\\\\n",
       "\\hline\n",
       "\t  0.18190059 & 0.3884769 &  0.4682404 & 0.63961269 & metformin\\_bY & meds\\_acei\\_arb \\textasciitilde{} metformin\\_b            & Not-Significant\\\\\n",
       "\t -0.08926786 & 0.6190628 & -0.1441984 & 0.88534381 & metformin\\_bY & statins \\textasciitilde{} metformin\\_b                  & Not-Significant\\\\\n",
       "\t  0.01699758 & 0.8600968 &  0.0197624 & 0.98423291 & metformin\\_bY & smoking\\_history \\textasciitilde{} metformin\\_b          & Not-Significant\\\\\n",
       "\t -0.08223810 & 0.4920928 & -0.1671191 & 0.86727635 & metformin\\_bY & cad\\_years \\textasciitilde{} metformin\\_b                & Not-Significant\\\\\n",
       "\t  0.19633229 & 0.3980268 &  0.4932640 & 0.62182607 & metformin\\_bY & hypertension \\textasciitilde{} metformin\\_b             & Not-Significant\\\\\n",
       "\t -0.41892426 & 0.6825314 & -0.6137802 & 0.53936058 & metformin\\_bY & hyperlipidemia \\textasciitilde{} metformin\\_b           & Not-Significant\\\\\n",
       "\t -0.99884776 & 0.5311454 & -1.8805544 & 0.06003256 & metformin\\_bY & life\\_style\\_modification \\textasciitilde{} metformin\\_b  & Not-Significant\\\\\n",
       "\t  0.37561214 & 0.4675850 &  0.8033025 & 0.42179993 & metformin\\_bY & insulin\\_b \\textasciitilde{} metformin\\_b                & Not-Significant\\\\\n",
       "\t  0.69451986 & 0.4858949 &  1.4293624 & 0.15290011 & metformin\\_bY & secretagogues\\_b \\textasciitilde{} metformin\\_b          & Not-Significant\\\\\n",
       "\t  0.94908055 & 1.4277678 &  0.6647303 & 0.50622299 & metformin\\_bY & tzd\\_b \\textasciitilde{} metformin\\_b                    & Not-Significant\\\\\n",
       "\t  0.51879379 & 0.4115817 &  1.2604880 & 0.20749337 & metformin\\_bY & glycosidase\\_inhibitors\\_b \\textasciitilde{} metformin\\_b & Not-Significant\\\\\n",
       "\t  1.00330204 & 0.7357468 &  1.3636512 & 0.17267736 & metformin\\_bY & dpp4\\_inhibitor\\_b \\textasciitilde{} metformin\\_b         & Not-Significant\\\\\n",
       "\t  0.07154715 & 0.4012297 &  0.1783197 & 0.85847192 & metformin\\_bY & insulin\\_a \\textasciitilde{} metformin\\_b                & Not-Significant\\\\\n",
       "\t  0.44813155 & 0.4391856 &  1.0203695 & 0.30755324 & metformin\\_bY & secretagogues\\_a \\textasciitilde{} metformin\\_b          & Not-Significant\\\\\n",
       "\t  1.67039861 & 1.2406911 &  1.3463452 & 0.17819120 & metformin\\_bY & tzd\\_a \\textasciitilde{} metformin\\_b                    & Not-Significant\\\\\n",
       "\t  0.59465228 & 0.3916560 &  1.5183025 & 0.12893815 & metformin\\_bY & glycosidase\\_inhibitors\\_a \\textasciitilde{} metformin\\_b & Not-Significant\\\\\n",
       "\t  1.23697072 & 0.6404278 &  1.9314756 & 0.05342426 & metformin\\_bY & dpp4\\_inhibitor\\_a \\textasciitilde{} metformin\\_b         & Not-Significant\\\\\n",
       "\\end{tabular}\n"
      ],
      "text/markdown": [
       "\n",
       "A data.table: 17 × 7\n",
       "\n",
       "| Estimate &lt;dbl&gt; | Std. Error &lt;dbl&gt; | z value &lt;dbl&gt; | Pr(&gt;|z|) &lt;dbl&gt; | names &lt;chr&gt; | formula &lt;chr&gt; | Significance &lt;chr&gt; |\n",
       "|---|---|---|---|---|---|---|\n",
       "|  0.18190059 | 0.3884769 |  0.4682404 | 0.63961269 | metformin_bY | meds_acei_arb ~ metformin_b            | Not-Significant |\n",
       "| -0.08926786 | 0.6190628 | -0.1441984 | 0.88534381 | metformin_bY | statins ~ metformin_b                  | Not-Significant |\n",
       "|  0.01699758 | 0.8600968 |  0.0197624 | 0.98423291 | metformin_bY | smoking_history ~ metformin_b          | Not-Significant |\n",
       "| -0.08223810 | 0.4920928 | -0.1671191 | 0.86727635 | metformin_bY | cad_years ~ metformin_b                | Not-Significant |\n",
       "|  0.19633229 | 0.3980268 |  0.4932640 | 0.62182607 | metformin_bY | hypertension ~ metformin_b             | Not-Significant |\n",
       "| -0.41892426 | 0.6825314 | -0.6137802 | 0.53936058 | metformin_bY | hyperlipidemia ~ metformin_b           | Not-Significant |\n",
       "| -0.99884776 | 0.5311454 | -1.8805544 | 0.06003256 | metformin_bY | life_style_modification ~ metformin_b  | Not-Significant |\n",
       "|  0.37561214 | 0.4675850 |  0.8033025 | 0.42179993 | metformin_bY | insulin_b ~ metformin_b                | Not-Significant |\n",
       "|  0.69451986 | 0.4858949 |  1.4293624 | 0.15290011 | metformin_bY | secretagogues_b ~ metformin_b          | Not-Significant |\n",
       "|  0.94908055 | 1.4277678 |  0.6647303 | 0.50622299 | metformin_bY | tzd_b ~ metformin_b                    | Not-Significant |\n",
       "|  0.51879379 | 0.4115817 |  1.2604880 | 0.20749337 | metformin_bY | glycosidase_inhibitors_b ~ metformin_b | Not-Significant |\n",
       "|  1.00330204 | 0.7357468 |  1.3636512 | 0.17267736 | metformin_bY | dpp4_inhibitor_b ~ metformin_b         | Not-Significant |\n",
       "|  0.07154715 | 0.4012297 |  0.1783197 | 0.85847192 | metformin_bY | insulin_a ~ metformin_b                | Not-Significant |\n",
       "|  0.44813155 | 0.4391856 |  1.0203695 | 0.30755324 | metformin_bY | secretagogues_a ~ metformin_b          | Not-Significant |\n",
       "|  1.67039861 | 1.2406911 |  1.3463452 | 0.17819120 | metformin_bY | tzd_a ~ metformin_b                    | Not-Significant |\n",
       "|  0.59465228 | 0.3916560 |  1.5183025 | 0.12893815 | metformin_bY | glycosidase_inhibitors_a ~ metformin_b | Not-Significant |\n",
       "|  1.23697072 | 0.6404278 |  1.9314756 | 0.05342426 | metformin_bY | dpp4_inhibitor_a ~ metformin_b         | Not-Significant |\n",
       "\n"
      ],
      "text/plain": [
       "   Estimate    Std. Error z value    Pr(>|z|)   names       \n",
       "1   0.18190059 0.3884769   0.4682404 0.63961269 metformin_bY\n",
       "2  -0.08926786 0.6190628  -0.1441984 0.88534381 metformin_bY\n",
       "3   0.01699758 0.8600968   0.0197624 0.98423291 metformin_bY\n",
       "4  -0.08223810 0.4920928  -0.1671191 0.86727635 metformin_bY\n",
       "5   0.19633229 0.3980268   0.4932640 0.62182607 metformin_bY\n",
       "6  -0.41892426 0.6825314  -0.6137802 0.53936058 metformin_bY\n",
       "7  -0.99884776 0.5311454  -1.8805544 0.06003256 metformin_bY\n",
       "8   0.37561214 0.4675850   0.8033025 0.42179993 metformin_bY\n",
       "9   0.69451986 0.4858949   1.4293624 0.15290011 metformin_bY\n",
       "10  0.94908055 1.4277678   0.6647303 0.50622299 metformin_bY\n",
       "11  0.51879379 0.4115817   1.2604880 0.20749337 metformin_bY\n",
       "12  1.00330204 0.7357468   1.3636512 0.17267736 metformin_bY\n",
       "13  0.07154715 0.4012297   0.1783197 0.85847192 metformin_bY\n",
       "14  0.44813155 0.4391856   1.0203695 0.30755324 metformin_bY\n",
       "15  1.67039861 1.2406911   1.3463452 0.17819120 metformin_bY\n",
       "16  0.59465228 0.3916560   1.5183025 0.12893815 metformin_bY\n",
       "17  1.23697072 0.6404278   1.9314756 0.05342426 metformin_bY\n",
       "   formula                                Significance   \n",
       "1  meds_acei_arb ~ metformin_b            Not-Significant\n",
       "2  statins ~ metformin_b                  Not-Significant\n",
       "3  smoking_history ~ metformin_b          Not-Significant\n",
       "4  cad_years ~ metformin_b                Not-Significant\n",
       "5  hypertension ~ metformin_b             Not-Significant\n",
       "6  hyperlipidemia ~ metformin_b           Not-Significant\n",
       "7  life_style_modification ~ metformin_b  Not-Significant\n",
       "8  insulin_b ~ metformin_b                Not-Significant\n",
       "9  secretagogues_b ~ metformin_b          Not-Significant\n",
       "10 tzd_b ~ metformin_b                    Not-Significant\n",
       "11 glycosidase_inhibitors_b ~ metformin_b Not-Significant\n",
       "12 dpp4_inhibitor_b ~ metformin_b         Not-Significant\n",
       "13 insulin_a ~ metformin_b                Not-Significant\n",
       "14 secretagogues_a ~ metformin_b          Not-Significant\n",
       "15 tzd_a ~ metformin_b                    Not-Significant\n",
       "16 glycosidase_inhibitors_a ~ metformin_b Not-Significant\n",
       "17 dpp4_inhibitor_a ~ metformin_b         Not-Significant"
      ]
     },
     "metadata": {},
     "output_type": "display_data"
    }
   ],
   "source": [
    "#dt_sub2 <- dt_sub2[,c(13:16, 29:44)][,c(1:9, 11:15, 17:20, 10, 16)]\n",
    "k <- 1:(length(colnames(dt_sub2))-2)\n",
    "k\n",
    "dependentglmR(DT = dt_sub2, key = k, independent_col = 19, significant = \"F\")"
   ]
  },
  {
   "cell_type": "markdown",
   "metadata": {},
   "source": [
    "#### In the code above, the algorithm did not converge on 16 of the 18 logistic regression models. "
   ]
  },
  {
   "cell_type": "markdown",
   "metadata": {},
   "source": [
    "### 3) detect any differences in any data attributes between taking metformin and those who are not.  "
   ]
  },
  {
   "cell_type": "code",
   "execution_count": 49,
   "metadata": {},
   "outputs": [],
   "source": [
    "met <- dt[metformin_b == \"Y\",]\n",
    "nomet <- dt[metformin_b == \"N\",]"
   ]
  },
  {
   "cell_type": "code",
   "execution_count": 53,
   "metadata": {
    "scrolled": true
   },
   "outputs": [
    {
     "data": {
      "text/html": [
       "<table>\n",
       "<caption>A data.table: 13 × 4</caption>\n",
       "<thead>\n",
       "\t<tr><th scope=col>comparison</th><th scope=col>parameter</th><th scope=col>Mann_Whitney_U_p_value</th><th scope=col>significant</th></tr>\n",
       "\t<tr><th scope=col>&lt;chr&gt;</th><th scope=col>&lt;chr&gt;</th><th scope=col>&lt;dbl&gt;</th><th scope=col>&lt;chr&gt;</th></tr>\n",
       "</thead>\n",
       "<tbody>\n",
       "\t<tr><td>metformin-no_metformin</td><td>lenth_of_hospital_stay</td><td>0.086480349</td><td>FALSE</td></tr>\n",
       "\t<tr><td>metformin-no_metformin</td><td>weight                </td><td>0.389536242</td><td>FALSE</td></tr>\n",
       "\t<tr><td>metformin-no_metformin</td><td>height                </td><td>0.545738247</td><td>FALSE</td></tr>\n",
       "\t<tr><td>metformin-no_metformin</td><td>bmi                   </td><td>0.956579031</td><td>FALSE</td></tr>\n",
       "\t<tr><td>metformin-no_metformin</td><td>o2_saturation         </td><td>0.489625398</td><td>FALSE</td></tr>\n",
       "\t<tr><td>metformin-no_metformin</td><td>chol                  </td><td>0.154980981</td><td>FALSE</td></tr>\n",
       "\t<tr><td>metformin-no_metformin</td><td>tg                    </td><td>0.482703885</td><td>FALSE</td></tr>\n",
       "\t<tr><td>metformin-no_metformin</td><td>hdl_c                 </td><td>0.177163972</td><td>FALSE</td></tr>\n",
       "\t<tr><td>metformin-no_metformin</td><td>ldl_c                 </td><td>0.494004269</td><td>FALSE</td></tr>\n",
       "\t<tr><td>metformin-no_metformin</td><td>glucose               </td><td>0.828731844</td><td>FALSE</td></tr>\n",
       "\t<tr><td>metformin-no_metformin</td><td>crp                   </td><td>0.683446860</td><td>FALSE</td></tr>\n",
       "\t<tr><td>metformin-no_metformin</td><td>d_dimmer              </td><td>0.023717325</td><td>TRUE </td></tr>\n",
       "\t<tr><td>metformin-no_metformin</td><td>hba1c                 </td><td>0.006881783</td><td>TRUE </td></tr>\n",
       "</tbody>\n",
       "</table>\n"
      ],
      "text/latex": [
       "A data.table: 13 × 4\n",
       "\\begin{tabular}{r|llll}\n",
       " comparison & parameter & Mann\\_Whitney\\_U\\_p\\_value & significant\\\\\n",
       " <chr> & <chr> & <dbl> & <chr>\\\\\n",
       "\\hline\n",
       "\t metformin-no\\_metformin & lenth\\_of\\_hospital\\_stay & 0.086480349 & FALSE\\\\\n",
       "\t metformin-no\\_metformin & weight                 & 0.389536242 & FALSE\\\\\n",
       "\t metformin-no\\_metformin & height                 & 0.545738247 & FALSE\\\\\n",
       "\t metformin-no\\_metformin & bmi                    & 0.956579031 & FALSE\\\\\n",
       "\t metformin-no\\_metformin & o2\\_saturation          & 0.489625398 & FALSE\\\\\n",
       "\t metformin-no\\_metformin & chol                   & 0.154980981 & FALSE\\\\\n",
       "\t metformin-no\\_metformin & tg                     & 0.482703885 & FALSE\\\\\n",
       "\t metformin-no\\_metformin & hdl\\_c                  & 0.177163972 & FALSE\\\\\n",
       "\t metformin-no\\_metformin & ldl\\_c                  & 0.494004269 & FALSE\\\\\n",
       "\t metformin-no\\_metformin & glucose                & 0.828731844 & FALSE\\\\\n",
       "\t metformin-no\\_metformin & crp                    & 0.683446860 & FALSE\\\\\n",
       "\t metformin-no\\_metformin & d\\_dimmer               & 0.023717325 & TRUE \\\\\n",
       "\t metformin-no\\_metformin & hba1c                  & 0.006881783 & TRUE \\\\\n",
       "\\end{tabular}\n"
      ],
      "text/markdown": [
       "\n",
       "A data.table: 13 × 4\n",
       "\n",
       "| comparison &lt;chr&gt; | parameter &lt;chr&gt; | Mann_Whitney_U_p_value &lt;dbl&gt; | significant &lt;chr&gt; |\n",
       "|---|---|---|---|\n",
       "| metformin-no_metformin | lenth_of_hospital_stay | 0.086480349 | FALSE |\n",
       "| metformin-no_metformin | weight                 | 0.389536242 | FALSE |\n",
       "| metformin-no_metformin | height                 | 0.545738247 | FALSE |\n",
       "| metformin-no_metformin | bmi                    | 0.956579031 | FALSE |\n",
       "| metformin-no_metformin | o2_saturation          | 0.489625398 | FALSE |\n",
       "| metformin-no_metformin | chol                   | 0.154980981 | FALSE |\n",
       "| metformin-no_metformin | tg                     | 0.482703885 | FALSE |\n",
       "| metformin-no_metformin | hdl_c                  | 0.177163972 | FALSE |\n",
       "| metformin-no_metformin | ldl_c                  | 0.494004269 | FALSE |\n",
       "| metformin-no_metformin | glucose                | 0.828731844 | FALSE |\n",
       "| metformin-no_metformin | crp                    | 0.683446860 | FALSE |\n",
       "| metformin-no_metformin | d_dimmer               | 0.023717325 | TRUE  |\n",
       "| metformin-no_metformin | hba1c                  | 0.006881783 | TRUE  |\n",
       "\n"
      ],
      "text/plain": [
       "   comparison             parameter              Mann_Whitney_U_p_value\n",
       "1  metformin-no_metformin lenth_of_hospital_stay 0.086480349           \n",
       "2  metformin-no_metformin weight                 0.389536242           \n",
       "3  metformin-no_metformin height                 0.545738247           \n",
       "4  metformin-no_metformin bmi                    0.956579031           \n",
       "5  metformin-no_metformin o2_saturation          0.489625398           \n",
       "6  metformin-no_metformin chol                   0.154980981           \n",
       "7  metformin-no_metformin tg                     0.482703885           \n",
       "8  metformin-no_metformin hdl_c                  0.177163972           \n",
       "9  metformin-no_metformin ldl_c                  0.494004269           \n",
       "10 metformin-no_metformin glucose                0.828731844           \n",
       "11 metformin-no_metformin crp                    0.683446860           \n",
       "12 metformin-no_metformin d_dimmer               0.023717325           \n",
       "13 metformin-no_metformin hba1c                  0.006881783           \n",
       "   significant\n",
       "1  FALSE      \n",
       "2  FALSE      \n",
       "3  FALSE      \n",
       "4  FALSE      \n",
       "5  FALSE      \n",
       "6  FALSE      \n",
       "7  FALSE      \n",
       "8  FALSE      \n",
       "9  FALSE      \n",
       "10 FALSE      \n",
       "11 FALSE      \n",
       "12 TRUE       \n",
       "13 TRUE       "
      ]
     },
     "metadata": {},
     "output_type": "display_data"
    }
   ],
   "source": [
    "# continuous variables: use mann-whitney U non-parametric test\n",
    "metcon <- met[,c(9:12, 17, 19:24, 26:27)][,c(\"lenth_of_hospital_stay\", \"height\") := .(as.numeric(lenth_of_hospital_stay), as.numeric(height))]\n",
    "nometcon <- nomet[,c(9:12, 17, 19:24, 26:27)][,c(\"lenth_of_hospital_stay\", \"height\") := .(as.numeric(lenth_of_hospital_stay), as.numeric(height))]\n",
    "keys <- intersect(colnames(metcon), colnames(nometcon))\n",
    "test_dt <- NULL\n",
    "comparisons <- \"metformin-no_metformin\"\n",
    "for(i in 1:length(keys)){\n",
    "  test <- suppressWarnings(wilcox.test(metcon[[keys[i]]], nometcon[[keys[i]]], conf.int = TRUE, paired = FALSE, formula = \"lhs\"))\n",
    "  if(test$p.value < 0.05){sig <- \"TRUE\"\n",
    "  }else{sig <- \"FALSE\"\n",
    "  };test_dt <- rbind(test_dt, data.table(comparison = comparisons, parameter = keys[i], Mann_Whitney_U_p_value = test$p.value, significant = sig))}\n",
    "test_dt"
   ]
  },
  {
   "cell_type": "code",
   "execution_count": 73,
   "metadata": {
    "scrolled": true
   },
   "outputs": [
    {
     "data": {
      "text/html": [
       "<table>\n",
       "<caption>A data.table: 23 × 4</caption>\n",
       "<thead>\n",
       "\t<tr><th scope=col>comparison</th><th scope=col>parameter</th><th scope=col>Chai_squared_p_value</th><th scope=col>significant</th></tr>\n",
       "\t<tr><th scope=col>&lt;chr&gt;</th><th scope=col>&lt;chr&gt;</th><th scope=col>&lt;dbl&gt;</th><th scope=col>&lt;chr&gt;</th></tr>\n",
       "</thead>\n",
       "<tbody>\n",
       "\t<tr><td>metformin-no_metformin</td><td>sex                     </td><td>8.145363e-01</td><td>FALSE</td></tr>\n",
       "\t<tr><td>metformin-no_metformin</td><td>cad_meds                </td><td>1.000000e+00</td><td>FALSE</td></tr>\n",
       "\t<tr><td>metformin-no_metformin</td><td>meds_acei_arb           </td><td>7.838725e-01</td><td>FALSE</td></tr>\n",
       "\t<tr><td>metformin-no_metformin</td><td>statins                 </td><td>1.000000e+00</td><td>FALSE</td></tr>\n",
       "\t<tr><td>metformin-no_metformin</td><td>smoking_history         </td><td>1.000000e+00</td><td>FALSE</td></tr>\n",
       "\t<tr><td>metformin-no_metformin</td><td>procalcitonin           </td><td>5.353149e-01</td><td>FALSE</td></tr>\n",
       "\t<tr><td>metformin-no_metformin</td><td>cad_years               </td><td>1.000000e+00</td><td>FALSE</td></tr>\n",
       "\t<tr><td>metformin-no_metformin</td><td>hypertension            </td><td>7.668795e-01</td><td>FALSE</td></tr>\n",
       "\t<tr><td>metformin-no_metformin</td><td>hyperlipidemia          </td><td>7.612328e-01</td><td>FALSE</td></tr>\n",
       "\t<tr><td>metformin-no_metformin</td><td>life_style_modification </td><td>8.762389e-02</td><td>FALSE</td></tr>\n",
       "\t<tr><td>metformin-no_metformin</td><td>insulin_b               </td><td>5.736169e-01</td><td>FALSE</td></tr>\n",
       "\t<tr><td>metformin-no_metformin</td><td>metformin_b             </td><td>2.905658e-29</td><td>TRUE </td></tr>\n",
       "\t<tr><td>metformin-no_metformin</td><td>secretagogues_b         </td><td>2.352358e-01</td><td>FALSE</td></tr>\n",
       "\t<tr><td>metformin-no_metformin</td><td>tzd_b                   </td><td>1.000000e+00</td><td>FALSE</td></tr>\n",
       "\t<tr><td>metformin-no_metformin</td><td>glycosidase_inhibitors_b</td><td>2.915996e-01</td><td>FALSE</td></tr>\n",
       "\t<tr><td>metformin-no_metformin</td><td>dpp4_inhibitor_b        </td><td>3.147179e-01</td><td>FALSE</td></tr>\n",
       "\t<tr><td>metformin-no_metformin</td><td>insulin_a               </td><td>1.000000e+00</td><td>FALSE</td></tr>\n",
       "\t<tr><td>metformin-no_metformin</td><td>metformin_a             </td><td>2.905658e-29</td><td>TRUE </td></tr>\n",
       "\t<tr><td>metformin-no_metformin</td><td>secretagogues_a         </td><td>4.257517e-01</td><td>FALSE</td></tr>\n",
       "\t<tr><td>metformin-no_metformin</td><td>tzd_a                   </td><td>3.971169e-01</td><td>FALSE</td></tr>\n",
       "\t<tr><td>metformin-no_metformin</td><td>glycosidase_inhibitors_a</td><td>1.831011e-01</td><td>FALSE</td></tr>\n",
       "\t<tr><td>metformin-no_metformin</td><td>dpp4_inhibitor_a        </td><td>9.400490e-02</td><td>FALSE</td></tr>\n",
       "\t<tr><td>metformin-no_metformin</td><td>steroid_use             </td><td>4.164720e-02</td><td>TRUE </td></tr>\n",
       "</tbody>\n",
       "</table>\n"
      ],
      "text/latex": [
       "A data.table: 23 × 4\n",
       "\\begin{tabular}{r|llll}\n",
       " comparison & parameter & Chai\\_squared\\_p\\_value & significant\\\\\n",
       " <chr> & <chr> & <dbl> & <chr>\\\\\n",
       "\\hline\n",
       "\t metformin-no\\_metformin & sex                      & 8.145363e-01 & FALSE\\\\\n",
       "\t metformin-no\\_metformin & cad\\_meds                 & 1.000000e+00 & FALSE\\\\\n",
       "\t metformin-no\\_metformin & meds\\_acei\\_arb            & 7.838725e-01 & FALSE\\\\\n",
       "\t metformin-no\\_metformin & statins                  & 1.000000e+00 & FALSE\\\\\n",
       "\t metformin-no\\_metformin & smoking\\_history          & 1.000000e+00 & FALSE\\\\\n",
       "\t metformin-no\\_metformin & procalcitonin            & 5.353149e-01 & FALSE\\\\\n",
       "\t metformin-no\\_metformin & cad\\_years                & 1.000000e+00 & FALSE\\\\\n",
       "\t metformin-no\\_metformin & hypertension             & 7.668795e-01 & FALSE\\\\\n",
       "\t metformin-no\\_metformin & hyperlipidemia           & 7.612328e-01 & FALSE\\\\\n",
       "\t metformin-no\\_metformin & life\\_style\\_modification  & 8.762389e-02 & FALSE\\\\\n",
       "\t metformin-no\\_metformin & insulin\\_b                & 5.736169e-01 & FALSE\\\\\n",
       "\t metformin-no\\_metformin & metformin\\_b              & 2.905658e-29 & TRUE \\\\\n",
       "\t metformin-no\\_metformin & secretagogues\\_b          & 2.352358e-01 & FALSE\\\\\n",
       "\t metformin-no\\_metformin & tzd\\_b                    & 1.000000e+00 & FALSE\\\\\n",
       "\t metformin-no\\_metformin & glycosidase\\_inhibitors\\_b & 2.915996e-01 & FALSE\\\\\n",
       "\t metformin-no\\_metformin & dpp4\\_inhibitor\\_b         & 3.147179e-01 & FALSE\\\\\n",
       "\t metformin-no\\_metformin & insulin\\_a                & 1.000000e+00 & FALSE\\\\\n",
       "\t metformin-no\\_metformin & metformin\\_a              & 2.905658e-29 & TRUE \\\\\n",
       "\t metformin-no\\_metformin & secretagogues\\_a          & 4.257517e-01 & FALSE\\\\\n",
       "\t metformin-no\\_metformin & tzd\\_a                    & 3.971169e-01 & FALSE\\\\\n",
       "\t metformin-no\\_metformin & glycosidase\\_inhibitors\\_a & 1.831011e-01 & FALSE\\\\\n",
       "\t metformin-no\\_metformin & dpp4\\_inhibitor\\_a         & 9.400490e-02 & FALSE\\\\\n",
       "\t metformin-no\\_metformin & steroid\\_use              & 4.164720e-02 & TRUE \\\\\n",
       "\\end{tabular}\n"
      ],
      "text/markdown": [
       "\n",
       "A data.table: 23 × 4\n",
       "\n",
       "| comparison &lt;chr&gt; | parameter &lt;chr&gt; | Chai_squared_p_value &lt;dbl&gt; | significant &lt;chr&gt; |\n",
       "|---|---|---|---|\n",
       "| metformin-no_metformin | sex                      | 8.145363e-01 | FALSE |\n",
       "| metformin-no_metformin | cad_meds                 | 1.000000e+00 | FALSE |\n",
       "| metformin-no_metformin | meds_acei_arb            | 7.838725e-01 | FALSE |\n",
       "| metformin-no_metformin | statins                  | 1.000000e+00 | FALSE |\n",
       "| metformin-no_metformin | smoking_history          | 1.000000e+00 | FALSE |\n",
       "| metformin-no_metformin | procalcitonin            | 5.353149e-01 | FALSE |\n",
       "| metformin-no_metformin | cad_years                | 1.000000e+00 | FALSE |\n",
       "| metformin-no_metformin | hypertension             | 7.668795e-01 | FALSE |\n",
       "| metformin-no_metformin | hyperlipidemia           | 7.612328e-01 | FALSE |\n",
       "| metformin-no_metformin | life_style_modification  | 8.762389e-02 | FALSE |\n",
       "| metformin-no_metformin | insulin_b                | 5.736169e-01 | FALSE |\n",
       "| metformin-no_metformin | metformin_b              | 2.905658e-29 | TRUE  |\n",
       "| metformin-no_metformin | secretagogues_b          | 2.352358e-01 | FALSE |\n",
       "| metformin-no_metformin | tzd_b                    | 1.000000e+00 | FALSE |\n",
       "| metformin-no_metformin | glycosidase_inhibitors_b | 2.915996e-01 | FALSE |\n",
       "| metformin-no_metformin | dpp4_inhibitor_b         | 3.147179e-01 | FALSE |\n",
       "| metformin-no_metformin | insulin_a                | 1.000000e+00 | FALSE |\n",
       "| metformin-no_metformin | metformin_a              | 2.905658e-29 | TRUE  |\n",
       "| metformin-no_metformin | secretagogues_a          | 4.257517e-01 | FALSE |\n",
       "| metformin-no_metformin | tzd_a                    | 3.971169e-01 | FALSE |\n",
       "| metformin-no_metformin | glycosidase_inhibitors_a | 1.831011e-01 | FALSE |\n",
       "| metformin-no_metformin | dpp4_inhibitor_a         | 9.400490e-02 | FALSE |\n",
       "| metformin-no_metformin | steroid_use              | 4.164720e-02 | TRUE  |\n",
       "\n"
      ],
      "text/plain": [
       "   comparison             parameter                Chai_squared_p_value\n",
       "1  metformin-no_metformin sex                      8.145363e-01        \n",
       "2  metformin-no_metformin cad_meds                 1.000000e+00        \n",
       "3  metformin-no_metformin meds_acei_arb            7.838725e-01        \n",
       "4  metformin-no_metformin statins                  1.000000e+00        \n",
       "5  metformin-no_metformin smoking_history          1.000000e+00        \n",
       "6  metformin-no_metformin procalcitonin            5.353149e-01        \n",
       "7  metformin-no_metformin cad_years                1.000000e+00        \n",
       "8  metformin-no_metformin hypertension             7.668795e-01        \n",
       "9  metformin-no_metformin hyperlipidemia           7.612328e-01        \n",
       "10 metformin-no_metformin life_style_modification  8.762389e-02        \n",
       "11 metformin-no_metformin insulin_b                5.736169e-01        \n",
       "12 metformin-no_metformin metformin_b              2.905658e-29        \n",
       "13 metformin-no_metformin secretagogues_b          2.352358e-01        \n",
       "14 metformin-no_metformin tzd_b                    1.000000e+00        \n",
       "15 metformin-no_metformin glycosidase_inhibitors_b 2.915996e-01        \n",
       "16 metformin-no_metformin dpp4_inhibitor_b         3.147179e-01        \n",
       "17 metformin-no_metformin insulin_a                1.000000e+00        \n",
       "18 metformin-no_metformin metformin_a              2.905658e-29        \n",
       "19 metformin-no_metformin secretagogues_a          4.257517e-01        \n",
       "20 metformin-no_metformin tzd_a                    3.971169e-01        \n",
       "21 metformin-no_metformin glycosidase_inhibitors_a 1.831011e-01        \n",
       "22 metformin-no_metformin dpp4_inhibitor_a         9.400490e-02        \n",
       "23 metformin-no_metformin steroid_use              4.164720e-02        \n",
       "   significant\n",
       "1  FALSE      \n",
       "2  FALSE      \n",
       "3  FALSE      \n",
       "4  FALSE      \n",
       "5  FALSE      \n",
       "6  FALSE      \n",
       "7  FALSE      \n",
       "8  FALSE      \n",
       "9  FALSE      \n",
       "10 FALSE      \n",
       "11 FALSE      \n",
       "12 TRUE       \n",
       "13 FALSE      \n",
       "14 FALSE      \n",
       "15 FALSE      \n",
       "16 FALSE      \n",
       "17 FALSE      \n",
       "18 TRUE       \n",
       "19 FALSE      \n",
       "20 FALSE      \n",
       "21 FALSE      \n",
       "22 FALSE      \n",
       "23 TRUE       "
      ]
     },
     "metadata": {},
     "output_type": "display_data"
    }
   ],
   "source": [
    "# discontinuous variables: use chai squared test\n",
    "metdis <- met[,c(5, 13:16, 25, 29:45)]\n",
    "nometdis <- nomet[,c(5, 13:16, 25, 29:45)]\n",
    "test_dt <- NULL\n",
    "keys <- intersect(colnames(metdis), colnames(nometdis));#keys\n",
    "comparisons <- \"metformin-no_metformin\"\n",
    "for(i in 1:length(keys)){\n",
    "    mytab <- with(dt,table(metformin_b,dt[[keys[i]]]))\n",
    "    test <- chisq.test(mytab)\n",
    "  if(test$p.value < 0.05){sig <- \"TRUE\"\n",
    "  }else{sig <- \"FALSE\"\n",
    "  };test_dt <- rbind(test_dt, data.table(comparison = comparisons, parameter = keys[i], Chai_squared_p_value = test$p.value, significant = sig))}\n",
    "test_dt"
   ]
  },
  {
   "cell_type": "markdown",
   "metadata": {},
   "source": [
    "#### Taken together, the analyses of this section indicate that steroids and glycosidase inhibitors appear to be the predominant confounding medications/variables on determining if metformin improves outcome in people hospitalized with COVID-19.\n",
    "#### In the next section, we will controll for glycosidase inhibitors and/or steroid use to assess the independent effect of metformin on improvind survival in people hospitalized with COVID-19. "
   ]
  },
  {
   "cell_type": "markdown",
   "metadata": {},
   "source": [
    "# Section III: Controll for confounding variables when assessing the effect of metformin on survival/mortality as an outcome."
   ]
  },
  {
   "cell_type": "markdown",
   "metadata": {},
   "source": [
    "## Conduct propensity score matching on variables that confound metformin treatment on predicting outcome (survival)"
   ]
  },
  {
   "cell_type": "markdown",
   "metadata": {},
   "source": [
    "#### Eliminate any confounding variables with missing values (NA)."
   ]
  },
  {
   "cell_type": "code",
   "execution_count": 74,
   "metadata": {
    "scrolled": true
   },
   "outputs": [
    {
     "data": {
      "text/html": [
       "<ol>\n",
       "\t<li><table>\n",
       "<caption>A data.table: 1 × 3</caption>\n",
       "<thead>\n",
       "\t<tr><th scope=col>hba1c</th><th scope=col>frequency</th><th scope=col>percent</th></tr>\n",
       "\t<tr><th scope=col>&lt;dbl&gt;</th><th scope=col>&lt;int&gt;</th><th scope=col>&lt;dbl&gt;</th></tr>\n",
       "</thead>\n",
       "<tbody>\n",
       "\t<tr><td>NA</td><td>71</td><td>54.19847</td></tr>\n",
       "</tbody>\n",
       "</table>\n",
       "</li>\n",
       "\t<li><table>\n",
       "<caption>A data.table: 1 × 3</caption>\n",
       "<thead>\n",
       "\t<tr><th scope=col>steroid_use</th><th scope=col>frequency</th><th scope=col>percent</th></tr>\n",
       "\t<tr><th scope=col>&lt;chr&gt;</th><th scope=col>&lt;int&gt;</th><th scope=col>&lt;dbl&gt;</th></tr>\n",
       "</thead>\n",
       "<tbody>\n",
       "\t<tr><td>N</td><td>83</td><td>63.35878</td></tr>\n",
       "</tbody>\n",
       "</table>\n",
       "</li>\n",
       "\t<li><table>\n",
       "<caption>A data.table: 1 × 3</caption>\n",
       "<thead>\n",
       "\t<tr><th scope=col>glycosidase_inhibitors_a</th><th scope=col>frequency</th><th scope=col>percent</th></tr>\n",
       "\t<tr><th scope=col>&lt;chr&gt;</th><th scope=col>&lt;int&gt;</th><th scope=col>&lt;dbl&gt;</th></tr>\n",
       "</thead>\n",
       "<tbody>\n",
       "\t<tr><td>N</td><td>74</td><td>56.48855</td></tr>\n",
       "</tbody>\n",
       "</table>\n",
       "</li>\n",
       "</ol>\n"
      ],
      "text/latex": [
       "\\begin{enumerate}\n",
       "\\item A data.table: 1 × 3\n",
       "\\begin{tabular}{r|lll}\n",
       " hba1c & frequency & percent\\\\\n",
       " <dbl> & <int> & <dbl>\\\\\n",
       "\\hline\n",
       "\t NA & 71 & 54.19847\\\\\n",
       "\\end{tabular}\n",
       "\n",
       "\\item A data.table: 1 × 3\n",
       "\\begin{tabular}{r|lll}\n",
       " steroid\\_use & frequency & percent\\\\\n",
       " <chr> & <int> & <dbl>\\\\\n",
       "\\hline\n",
       "\t N & 83 & 63.35878\\\\\n",
       "\\end{tabular}\n",
       "\n",
       "\\item A data.table: 1 × 3\n",
       "\\begin{tabular}{r|lll}\n",
       " glycosidase\\_inhibitors\\_a & frequency & percent\\\\\n",
       " <chr> & <int> & <dbl>\\\\\n",
       "\\hline\n",
       "\t N & 74 & 56.48855\\\\\n",
       "\\end{tabular}\n",
       "\n",
       "\\end{enumerate}\n"
      ],
      "text/markdown": [
       "1. \n",
       "A data.table: 1 × 3\n",
       "\n",
       "| hba1c &lt;dbl&gt; | frequency &lt;int&gt; | percent &lt;dbl&gt; |\n",
       "|---|---|---|\n",
       "| NA | 71 | 54.19847 |\n",
       "\n",
       "\n",
       "2. \n",
       "A data.table: 1 × 3\n",
       "\n",
       "| steroid_use &lt;chr&gt; | frequency &lt;int&gt; | percent &lt;dbl&gt; |\n",
       "|---|---|---|\n",
       "| N | 83 | 63.35878 |\n",
       "\n",
       "\n",
       "3. \n",
       "A data.table: 1 × 3\n",
       "\n",
       "| glycosidase_inhibitors_a &lt;chr&gt; | frequency &lt;int&gt; | percent &lt;dbl&gt; |\n",
       "|---|---|---|\n",
       "| N | 74 | 56.48855 |\n",
       "\n",
       "\n",
       "\n",
       "\n"
      ],
      "text/plain": [
       "[[1]]\n",
       "   hba1c frequency  percent\n",
       "1:    NA        71 54.19847\n",
       "\n",
       "[[2]]\n",
       "   steroid_use frequency  percent\n",
       "1:           N        83 63.35878\n",
       "\n",
       "[[3]]\n",
       "   glycosidase_inhibitors_a frequency  percent\n",
       "1:                        N        74 56.48855\n"
      ]
     },
     "metadata": {},
     "output_type": "display_data"
    }
   ],
   "source": [
    "contcols <- c(\"hba1c\", \"steroid_use\", \"glycosidase_inhibitors_a\")\n",
    "f <- function(b) head(freqsdt(\"dt\",b), 1)\n",
    "lapply(contcols,f)"
   ]
  },
  {
   "cell_type": "markdown",
   "metadata": {},
   "source": [
    "#### Transform metformin therapy before admission into a binary numeric column."
   ]
  },
  {
   "cell_type": "code",
   "execution_count": 75,
   "metadata": {},
   "outputs": [],
   "source": [
    "dt2 <- dt[,c(\"metformin_b\") := .(ifelse(metformin_b==\"Y\",1,0))]"
   ]
  },
  {
   "cell_type": "markdown",
   "metadata": {},
   "source": [
    "## Propensity score match on steroid use"
   ]
  },
  {
   "cell_type": "code",
   "execution_count": 96,
   "metadata": {},
   "outputs": [
    {
     "name": "stdout",
     "output_type": "stream",
     "text": [
      "\n",
      "Estimate...  0.077678 \n",
      "AI SE......  0.053012 \n",
      "T-stat.....  1.4653 \n",
      "p.val......  0.14284 \n",
      "\n",
      "Original number of observations..............  131 \n",
      "Original number of treated obs...............  37 \n",
      "Matched number of observations...............  37 \n",
      "Matched number of observations  (unweighted).  1886 \n",
      "\n",
      "\n",
      "***** (V1) steroid_useY *****\n",
      "                       Before Matching \t \t After Matching\n",
      "mean treatment........    0.21622 \t \t    0.21622 \n",
      "mean control..........    0.42553 \t \t    0.21622 \n",
      "std mean diff.........    -50.155 \t \t          0 \n",
      "\n",
      "mean raw eQQ diff.....    0.21622 \t \t          0 \n",
      "med  raw eQQ diff.....          0 \t \t          0 \n",
      "max  raw eQQ diff.....          1 \t \t          0 \n",
      "\n",
      "mean eCDF diff........    0.10466 \t \t          0 \n",
      "med  eCDF diff........    0.10466 \t \t          0 \n",
      "max  eCDF diff........    0.20932 \t \t          0 \n",
      "\n",
      "var ratio (Tr/Co).....    0.70492 \t \t          1 \n",
      "T-test p-value........   0.016789 \t \t          1 \n",
      "\n"
     ]
    }
   ],
   "source": [
    "glm.fit <-  glm(metformin_b ~ steroid_use, data = dt2, family = binomial)#glycosidase_inhibitors_a+steroid_use+\n",
    "#summary(glm.fit)\n",
    "rr1 <- Match(Y = dt$outcome, Tr = dt$metformin_b, glm.fit$fitted, M=1) # M simulates the number of iterations \n",
    "summary(rr1)\n",
    "mb <- MatchBalance(metformin_b ~ steroid_use, match.out = rr1, nboots = 1, data = dt)"
   ]
  },
  {
   "cell_type": "markdown",
   "metadata": {},
   "source": [
    "## Propensity score match on glycosidase_inhibitors_a"
   ]
  },
  {
   "cell_type": "code",
   "execution_count": 87,
   "metadata": {},
   "outputs": [
    {
     "name": "stdout",
     "output_type": "stream",
     "text": [
      "\n",
      "Estimate...  0.14141 \n",
      "AI SE......  0.052368 \n",
      "T-stat.....  2.7004 \n",
      "p.val......  0.0069255 \n",
      "\n",
      "Original number of observations..............  131 \n",
      "Original number of treated obs...............  37 \n",
      "Matched number of observations...............  37 \n",
      "Matched number of observations  (unweighted).  1709 \n",
      "\n",
      "\n",
      "***** (V1) glycosidase_inhibitors_aY *****\n",
      "                       Before Matching \t \t After Matching\n",
      "mean treatment........    0.54054 \t \t    0.54054 \n",
      "mean control..........    0.39362 \t \t    0.54054 \n",
      "std mean diff.........     29.081 \t \t          0 \n",
      "\n",
      "mean raw eQQ diff.....    0.16216 \t \t          0 \n",
      "med  raw eQQ diff.....          0 \t \t          0 \n",
      "max  raw eQQ diff.....          1 \t \t          0 \n",
      "\n",
      "mean eCDF diff........   0.073462 \t \t          0 \n",
      "med  eCDF diff........   0.073462 \t \t          0 \n",
      "max  eCDF diff........    0.14692 \t \t          0 \n",
      "\n",
      "var ratio (Tr/Co).....     1.0581 \t \t          1 \n",
      "T-test p-value........     0.1359 \t \t          1 \n",
      "\n"
     ]
    }
   ],
   "source": [
    "glm.fit <-  glm(metformin_b ~ glycosidase_inhibitors_a, data = dt2, family = binomial)#glycosidase_inhibitors_a+steroid_use+\n",
    "#summary(glm.fit)\n",
    "rr1 <- Match(Y = dt$outcome, Tr = dt$metformin_b, glm.fit$fitted, M=0) # M simulates the number of iterations \n",
    "summary(rr1)\n",
    "mb <- MatchBalance(metformin_b ~ glycosidase_inhibitors_a, match.out = rr1, nboots = 1, data = dt)"
   ]
  },
  {
   "cell_type": "markdown",
   "metadata": {},
   "source": [
    "### Bootstrap the data to determine if the number of records were increased and the data are representative of the general population would there be any significance in the data."
   ]
  },
  {
   "cell_type": "code",
   "execution_count": 88,
   "metadata": {},
   "outputs": [
    {
     "name": "stdout",
     "output_type": "stream",
     "text": [
      "\n",
      "Estimate...  0.077678 \n",
      "AI SE......  0.053012 \n",
      "T-stat.....  1.4653 \n",
      "p.val......  0.14284 \n",
      "\n",
      "Original number of observations..............  131 \n",
      "Original number of treated obs...............  37 \n",
      "Matched number of observations...............  37 \n",
      "Matched number of observations  (unweighted).  1886 \n",
      "\n",
      "\n",
      "***** (V1) steroid_useY *****\n",
      "                       Before Matching \t \t After Matching\n",
      "mean treatment........    0.21622 \t \t    0.21622 \n",
      "mean control..........    0.42553 \t \t    0.21622 \n",
      "std mean diff.........    -50.155 \t \t          0 \n",
      "\n",
      "mean raw eQQ diff.....    0.21622 \t \t          0 \n",
      "med  raw eQQ diff.....          0 \t \t          0 \n",
      "max  raw eQQ diff.....          1 \t \t          0 \n",
      "\n",
      "mean eCDF diff........    0.10466 \t \t          0 \n",
      "med  eCDF diff........    0.10466 \t \t          0 \n",
      "max  eCDF diff........    0.20932 \t \t          0 \n",
      "\n",
      "var ratio (Tr/Co).....    0.70492 \t \t          1 \n",
      "T-test p-value........   0.016789 \t \t          1 \n",
      "\n"
     ]
    }
   ],
   "source": [
    "glm.fit <-  glm(metformin_b ~ steroid_use, data = dt2, family = binomial)#glycosidase_inhibitors_a+steroid_use+\n",
    "#summary(glm.fit)\n",
    "rr1 <- Match(Y = dt$outcome, Tr = dt$metformin_b, glm.fit$fitted, M=10) # M simulates the number of iterations \n",
    "summary(rr1)\n",
    "mb <- MatchBalance(metformin_b ~ steroid_use, match.out = rr1, nboots = 10, data = dt)"
   ]
  },
  {
   "cell_type": "code",
   "execution_count": 89,
   "metadata": {},
   "outputs": [
    {
     "name": "stdout",
     "output_type": "stream",
     "text": [
      "\n",
      "Estimate...  0.14141 \n",
      "AI SE......  0.052368 \n",
      "T-stat.....  2.7004 \n",
      "p.val......  0.0069255 \n",
      "\n",
      "Original number of observations..............  131 \n",
      "Original number of treated obs...............  37 \n",
      "Matched number of observations...............  37 \n",
      "Matched number of observations  (unweighted).  1709 \n",
      "\n",
      "\n",
      "***** (V1) glycosidase_inhibitors_aY *****\n",
      "                       Before Matching \t \t After Matching\n",
      "mean treatment........    0.54054 \t \t    0.54054 \n",
      "mean control..........    0.39362 \t \t    0.54054 \n",
      "std mean diff.........     29.081 \t \t          0 \n",
      "\n",
      "mean raw eQQ diff.....    0.16216 \t \t          0 \n",
      "med  raw eQQ diff.....          0 \t \t          0 \n",
      "max  raw eQQ diff.....          1 \t \t          0 \n",
      "\n",
      "mean eCDF diff........   0.073462 \t \t          0 \n",
      "med  eCDF diff........   0.073462 \t \t          0 \n",
      "max  eCDF diff........    0.14692 \t \t          0 \n",
      "\n",
      "var ratio (Tr/Co).....     1.0581 \t \t          1 \n",
      "T-test p-value........     0.1359 \t \t          1 \n",
      "\n"
     ]
    }
   ],
   "source": [
    "glm.fit <-  glm(metformin_b ~ glycosidase_inhibitors_a, data = dt2, family = binomial)#glycosidase_inhibitors_a+steroid_use+\n",
    "#summary(glm.fit)\n",
    "rr1 <- Match(Y = dt$outcome, Tr = dt$metformin_b, glm.fit$fitted, M=10) # M simulates the number of iterations \n",
    "summary(rr1)\n",
    "mb <- MatchBalance(metformin_b ~ glycosidase_inhibitors_a, match.out = rr1, nboots = 10, data = dt)"
   ]
  },
  {
   "cell_type": "markdown",
   "metadata": {},
   "source": [
    "#### The results above suggest that the effect of metformin on survival/death is independent of glycosidase inhibitors but that steroid use is a significant confounding variable"
   ]
  },
  {
   "cell_type": "markdown",
   "metadata": {},
   "source": [
    "### Assess frequency counts to gain a better understanding of the accuracy of the results"
   ]
  },
  {
   "cell_type": "code",
   "execution_count": 92,
   "metadata": {
    "scrolled": true
   },
   "outputs": [
    {
     "data": {
      "text/html": [
       "<table>\n",
       "<caption>A data.table: 8 × 5</caption>\n",
       "<thead>\n",
       "\t<tr><th scope=col>steroid_use</th><th scope=col>metformin_b</th><th scope=col>outcome</th><th scope=col>frequency</th><th scope=col>percent</th></tr>\n",
       "\t<tr><th scope=col>&lt;chr&gt;</th><th scope=col>&lt;dbl&gt;</th><th scope=col>&lt;dbl&gt;</th><th scope=col>&lt;int&gt;</th><th scope=col>&lt;dbl&gt;</th></tr>\n",
       "</thead>\n",
       "<tbody>\n",
       "\t<tr><td>N</td><td>0</td><td>1</td><td>52</td><td>39.6946565</td></tr>\n",
       "\t<tr><td>N</td><td>1</td><td>1</td><td>28</td><td>21.3740458</td></tr>\n",
       "\t<tr><td>Y</td><td>0</td><td>1</td><td>21</td><td>16.0305344</td></tr>\n",
       "\t<tr><td>Y</td><td>0</td><td>0</td><td>19</td><td>14.5038168</td></tr>\n",
       "\t<tr><td>Y</td><td>1</td><td>1</td><td> 7</td><td> 5.3435115</td></tr>\n",
       "\t<tr><td>N</td><td>0</td><td>0</td><td> 2</td><td> 1.5267176</td></tr>\n",
       "\t<tr><td>N</td><td>1</td><td>0</td><td> 1</td><td> 0.7633588</td></tr>\n",
       "\t<tr><td>Y</td><td>1</td><td>0</td><td> 1</td><td> 0.7633588</td></tr>\n",
       "</tbody>\n",
       "</table>\n"
      ],
      "text/latex": [
       "A data.table: 8 × 5\n",
       "\\begin{tabular}{r|lllll}\n",
       " steroid\\_use & metformin\\_b & outcome & frequency & percent\\\\\n",
       " <chr> & <dbl> & <dbl> & <int> & <dbl>\\\\\n",
       "\\hline\n",
       "\t N & 0 & 1 & 52 & 39.6946565\\\\\n",
       "\t N & 1 & 1 & 28 & 21.3740458\\\\\n",
       "\t Y & 0 & 1 & 21 & 16.0305344\\\\\n",
       "\t Y & 0 & 0 & 19 & 14.5038168\\\\\n",
       "\t Y & 1 & 1 &  7 &  5.3435115\\\\\n",
       "\t N & 0 & 0 &  2 &  1.5267176\\\\\n",
       "\t N & 1 & 0 &  1 &  0.7633588\\\\\n",
       "\t Y & 1 & 0 &  1 &  0.7633588\\\\\n",
       "\\end{tabular}\n"
      ],
      "text/markdown": [
       "\n",
       "A data.table: 8 × 5\n",
       "\n",
       "| steroid_use &lt;chr&gt; | metformin_b &lt;dbl&gt; | outcome &lt;dbl&gt; | frequency &lt;int&gt; | percent &lt;dbl&gt; |\n",
       "|---|---|---|---|---|\n",
       "| N | 0 | 1 | 52 | 39.6946565 |\n",
       "| N | 1 | 1 | 28 | 21.3740458 |\n",
       "| Y | 0 | 1 | 21 | 16.0305344 |\n",
       "| Y | 0 | 0 | 19 | 14.5038168 |\n",
       "| Y | 1 | 1 |  7 |  5.3435115 |\n",
       "| N | 0 | 0 |  2 |  1.5267176 |\n",
       "| N | 1 | 0 |  1 |  0.7633588 |\n",
       "| Y | 1 | 0 |  1 |  0.7633588 |\n",
       "\n"
      ],
      "text/plain": [
       "  steroid_use metformin_b outcome frequency percent   \n",
       "1 N           0           1       52        39.6946565\n",
       "2 N           1           1       28        21.3740458\n",
       "3 Y           0           1       21        16.0305344\n",
       "4 Y           0           0       19        14.5038168\n",
       "5 Y           1           1        7         5.3435115\n",
       "6 N           0           0        2         1.5267176\n",
       "7 N           1           0        1         0.7633588\n",
       "8 Y           1           0        1         0.7633588"
      ]
     },
     "metadata": {},
     "output_type": "display_data"
    },
    {
     "data": {
      "text/html": [
       "<table>\n",
       "<caption>A data.table: 8 × 5</caption>\n",
       "<thead>\n",
       "\t<tr><th scope=col>steroid_use</th><th scope=col>glycosidase_inhibitors_a</th><th scope=col>outcome</th><th scope=col>frequency</th><th scope=col>percent</th></tr>\n",
       "\t<tr><th scope=col>&lt;chr&gt;</th><th scope=col>&lt;chr&gt;</th><th scope=col>&lt;dbl&gt;</th><th scope=col>&lt;int&gt;</th><th scope=col>&lt;dbl&gt;</th></tr>\n",
       "</thead>\n",
       "<tbody>\n",
       "\t<tr><td>N</td><td>N</td><td>1</td><td>42</td><td>32.0610687</td></tr>\n",
       "\t<tr><td>N</td><td>Y</td><td>1</td><td>38</td><td>29.0076336</td></tr>\n",
       "\t<tr><td>Y</td><td>N</td><td>0</td><td>16</td><td>12.2137405</td></tr>\n",
       "\t<tr><td>Y</td><td>Y</td><td>1</td><td>14</td><td>10.6870229</td></tr>\n",
       "\t<tr><td>Y</td><td>N</td><td>1</td><td>14</td><td>10.6870229</td></tr>\n",
       "\t<tr><td>Y</td><td>Y</td><td>0</td><td> 4</td><td> 3.0534351</td></tr>\n",
       "\t<tr><td>N</td><td>N</td><td>0</td><td> 2</td><td> 1.5267176</td></tr>\n",
       "\t<tr><td>N</td><td>Y</td><td>0</td><td> 1</td><td> 0.7633588</td></tr>\n",
       "</tbody>\n",
       "</table>\n"
      ],
      "text/latex": [
       "A data.table: 8 × 5\n",
       "\\begin{tabular}{r|lllll}\n",
       " steroid\\_use & glycosidase\\_inhibitors\\_a & outcome & frequency & percent\\\\\n",
       " <chr> & <chr> & <dbl> & <int> & <dbl>\\\\\n",
       "\\hline\n",
       "\t N & N & 1 & 42 & 32.0610687\\\\\n",
       "\t N & Y & 1 & 38 & 29.0076336\\\\\n",
       "\t Y & N & 0 & 16 & 12.2137405\\\\\n",
       "\t Y & Y & 1 & 14 & 10.6870229\\\\\n",
       "\t Y & N & 1 & 14 & 10.6870229\\\\\n",
       "\t Y & Y & 0 &  4 &  3.0534351\\\\\n",
       "\t N & N & 0 &  2 &  1.5267176\\\\\n",
       "\t N & Y & 0 &  1 &  0.7633588\\\\\n",
       "\\end{tabular}\n"
      ],
      "text/markdown": [
       "\n",
       "A data.table: 8 × 5\n",
       "\n",
       "| steroid_use &lt;chr&gt; | glycosidase_inhibitors_a &lt;chr&gt; | outcome &lt;dbl&gt; | frequency &lt;int&gt; | percent &lt;dbl&gt; |\n",
       "|---|---|---|---|---|\n",
       "| N | N | 1 | 42 | 32.0610687 |\n",
       "| N | Y | 1 | 38 | 29.0076336 |\n",
       "| Y | N | 0 | 16 | 12.2137405 |\n",
       "| Y | Y | 1 | 14 | 10.6870229 |\n",
       "| Y | N | 1 | 14 | 10.6870229 |\n",
       "| Y | Y | 0 |  4 |  3.0534351 |\n",
       "| N | N | 0 |  2 |  1.5267176 |\n",
       "| N | Y | 0 |  1 |  0.7633588 |\n",
       "\n"
      ],
      "text/plain": [
       "  steroid_use glycosidase_inhibitors_a outcome frequency percent   \n",
       "1 N           N                        1       42        32.0610687\n",
       "2 N           Y                        1       38        29.0076336\n",
       "3 Y           N                        0       16        12.2137405\n",
       "4 Y           Y                        1       14        10.6870229\n",
       "5 Y           N                        1       14        10.6870229\n",
       "6 Y           Y                        0        4         3.0534351\n",
       "7 N           N                        0        2         1.5267176\n",
       "8 N           Y                        0        1         0.7633588"
      ]
     },
     "metadata": {},
     "output_type": "display_data"
    }
   ],
   "source": [
    "freqsdt('dt','steroid_use,metformin_b,outcome')[]\n",
    "freqsdt('dt','steroid_use,glycosidase_inhibitors_a,outcome')[]"
   ]
  },
  {
   "cell_type": "markdown",
   "metadata": {},
   "source": [
    "#### In assessing the numbers, there is not enough data to make an accurate determination between the effect of steroid use as a true confounding variable to metformin therapy on predicting outcome. However, steroid administration may be a significant confounding variable to the effect of metformin on reducing hospital morbidity and mortality. "
   ]
  },
  {
   "cell_type": "markdown",
   "metadata": {},
   "source": [
    "## Use a matched pairs design to explore the effects of metformin monotherapy on outcome (survival/death)"
   ]
  },
  {
   "cell_type": "code",
   "execution_count": 99,
   "metadata": {},
   "outputs": [
    {
     "name": "stdout",
     "output_type": "stream",
     "text": [
      "Classes 'data.table' and 'data.frame':\t131 obs. of  14 variables:\n",
      " $ insulin_b               : chr  \"N\" \"N\" \"Y\" \"N\" ...\n",
      " $ metformin_b             : chr  \"Y\" \"Y\" \"N\" \"N\" ...\n",
      " $ secretagogues_b         : chr  \"N\" \"N\" \"N\" \"N\" ...\n",
      " $ tzd_b                   : chr  \"N\" \"N\" \"N\" \"N\" ...\n",
      " $ glycosidase_inhibitors_b: chr  \"Y\" \"N\" \"N\" \"N\" ...\n",
      " $ dpp4_inhibitor_b        : chr  \"N\" \"N\" \"N\" \"N\" ...\n",
      " $ insulin_a               : chr  \"N\" \"N\" \"N\" \"N\" ...\n",
      " $ metformin_a             : chr  \"Y\" \"Y\" \"N\" \"N\" ...\n",
      " $ secretagogues_a         : chr  \"N\" \"N\" \"N\" \"N\" ...\n",
      " $ tzd_a                   : chr  \"N\" \"N\" \"N\" \"N\" ...\n",
      " $ glycosidase_inhibitors_a: chr  \"Y\" \"N\" \"N\" \"N\" ...\n",
      " $ dpp4_inhibitor_a        : chr  \"N\" \"N\" \"N\" \"N\" ...\n",
      " $ steroid_use             : chr  \"N\" \"N\" \"Y\" \"N\" ...\n",
      " $ outcome                 : num  1 1 0 1 0 0 1 1 1 1 ...\n",
      " - attr(*, \".internal.selfref\")=<externalptr> \n"
     ]
    }
   ],
   "source": [
    "dt_sub <- dt[,c(\"insulin_b\", \"metformin_b\", \"secretagogues_b\",\n",
    "                \"tzd_b\", \"glycosidase_inhibitors_b\",  \"dpp4_inhibitor_b\",\n",
    "                \"insulin_a\", \"metformin_a\",  \"secretagogues_a\",\n",
    "                \"tzd_a\",  \"glycosidase_inhibitors_a\", \"dpp4_inhibitor_a\",\n",
    "                \"steroid_use\", \"outcome\")][,c(\"metformin_b\") := .(ifelse(metformin_b==1,\"Y\",\"N\"))]\n",
    "str(dt_sub)"
   ]
  },
  {
   "cell_type": "code",
   "execution_count": 103,
   "metadata": {
    "scrolled": true
   },
   "outputs": [
    {
     "data": {
      "text/html": [
       "<table>\n",
       "<caption>A data.table: 19 × 14</caption>\n",
       "<thead>\n",
       "\t<tr><th scope=col>insulin_b</th><th scope=col>metformin_b</th><th scope=col>secretagogues_b</th><th scope=col>tzd_b</th><th scope=col>glycosidase_inhibitors_b</th><th scope=col>dpp4_inhibitor_b</th><th scope=col>insulin_a</th><th scope=col>metformin_a</th><th scope=col>secretagogues_a</th><th scope=col>tzd_a</th><th scope=col>glycosidase_inhibitors_a</th><th scope=col>dpp4_inhibitor_a</th><th scope=col>steroid_use</th><th scope=col>outcome</th></tr>\n",
       "\t<tr><th scope=col>&lt;chr&gt;</th><th scope=col>&lt;chr&gt;</th><th scope=col>&lt;chr&gt;</th><th scope=col>&lt;chr&gt;</th><th scope=col>&lt;chr&gt;</th><th scope=col>&lt;chr&gt;</th><th scope=col>&lt;chr&gt;</th><th scope=col>&lt;chr&gt;</th><th scope=col>&lt;chr&gt;</th><th scope=col>&lt;chr&gt;</th><th scope=col>&lt;chr&gt;</th><th scope=col>&lt;chr&gt;</th><th scope=col>&lt;chr&gt;</th><th scope=col>&lt;dbl&gt;</th></tr>\n",
       "</thead>\n",
       "<tbody>\n",
       "\t<tr><td>N</td><td>Y</td><td>N</td><td>N</td><td>N</td><td>N</td><td>N</td><td>Y</td><td>N</td><td>N</td><td>N</td><td>N</td><td>N</td><td>1</td></tr>\n",
       "\t<tr><td>N</td><td>N</td><td>N</td><td>N</td><td>N</td><td>N</td><td>N</td><td>N</td><td>N</td><td>N</td><td>N</td><td>N</td><td>N</td><td>1</td></tr>\n",
       "\t<tr><td>N</td><td>N</td><td>N</td><td>N</td><td>N</td><td>N</td><td>N</td><td>N</td><td>N</td><td>N</td><td>N</td><td>N</td><td>N</td><td>1</td></tr>\n",
       "\t<tr><td>N</td><td>Y</td><td>N</td><td>N</td><td>N</td><td>N</td><td>N</td><td>Y</td><td>N</td><td>N</td><td>N</td><td>N</td><td>N</td><td>1</td></tr>\n",
       "\t<tr><td>N</td><td>N</td><td>N</td><td>N</td><td>N</td><td>N</td><td>N</td><td>N</td><td>N</td><td>N</td><td>N</td><td>N</td><td>N</td><td>1</td></tr>\n",
       "\t<tr><td>N</td><td>Y</td><td>N</td><td>N</td><td>N</td><td>N</td><td>N</td><td>Y</td><td>N</td><td>N</td><td>N</td><td>N</td><td>N</td><td>1</td></tr>\n",
       "\t<tr><td>N</td><td>N</td><td>N</td><td>N</td><td>N</td><td>N</td><td>N</td><td>N</td><td>N</td><td>N</td><td>N</td><td>N</td><td>N</td><td>1</td></tr>\n",
       "\t<tr><td>N</td><td>N</td><td>N</td><td>N</td><td>N</td><td>N</td><td>N</td><td>N</td><td>N</td><td>N</td><td>N</td><td>N</td><td>N</td><td>0</td></tr>\n",
       "\t<tr><td>N</td><td>N</td><td>N</td><td>N</td><td>N</td><td>N</td><td>N</td><td>N</td><td>N</td><td>N</td><td>N</td><td>N</td><td>N</td><td>1</td></tr>\n",
       "\t<tr><td>N</td><td>N</td><td>N</td><td>N</td><td>N</td><td>N</td><td>N</td><td>N</td><td>N</td><td>N</td><td>N</td><td>N</td><td>N</td><td>1</td></tr>\n",
       "\t<tr><td>N</td><td>N</td><td>N</td><td>N</td><td>N</td><td>N</td><td>N</td><td>N</td><td>N</td><td>N</td><td>N</td><td>N</td><td>N</td><td>1</td></tr>\n",
       "\t<tr><td>N</td><td>N</td><td>N</td><td>N</td><td>N</td><td>N</td><td>N</td><td>N</td><td>N</td><td>N</td><td>N</td><td>N</td><td>N</td><td>0</td></tr>\n",
       "\t<tr><td>N</td><td>N</td><td>N</td><td>N</td><td>N</td><td>N</td><td>N</td><td>N</td><td>N</td><td>N</td><td>N</td><td>N</td><td>N</td><td>1</td></tr>\n",
       "\t<tr><td>N</td><td>N</td><td>N</td><td>N</td><td>N</td><td>N</td><td>N</td><td>N</td><td>N</td><td>N</td><td>N</td><td>N</td><td>N</td><td>1</td></tr>\n",
       "\t<tr><td>N</td><td>Y</td><td>N</td><td>N</td><td>N</td><td>N</td><td>N</td><td>Y</td><td>N</td><td>N</td><td>N</td><td>N</td><td>N</td><td>1</td></tr>\n",
       "\t<tr><td>N</td><td>Y</td><td>N</td><td>N</td><td>N</td><td>N</td><td>N</td><td>Y</td><td>N</td><td>N</td><td>N</td><td>N</td><td>N</td><td>1</td></tr>\n",
       "\t<tr><td>N</td><td>Y</td><td>N</td><td>N</td><td>N</td><td>N</td><td>N</td><td>Y</td><td>N</td><td>N</td><td>N</td><td>N</td><td>N</td><td>1</td></tr>\n",
       "\t<tr><td>N</td><td>N</td><td>N</td><td>N</td><td>N</td><td>N</td><td>N</td><td>N</td><td>N</td><td>N</td><td>N</td><td>N</td><td>N</td><td>1</td></tr>\n",
       "\t<tr><td>N</td><td>N</td><td>N</td><td>N</td><td>N</td><td>N</td><td>N</td><td>N</td><td>N</td><td>N</td><td>N</td><td>N</td><td>N</td><td>1</td></tr>\n",
       "</tbody>\n",
       "</table>\n"
      ],
      "text/latex": [
       "A data.table: 19 × 14\n",
       "\\begin{tabular}{r|llllllllllllll}\n",
       " insulin\\_b & metformin\\_b & secretagogues\\_b & tzd\\_b & glycosidase\\_inhibitors\\_b & dpp4\\_inhibitor\\_b & insulin\\_a & metformin\\_a & secretagogues\\_a & tzd\\_a & glycosidase\\_inhibitors\\_a & dpp4\\_inhibitor\\_a & steroid\\_use & outcome\\\\\n",
       " <chr> & <chr> & <chr> & <chr> & <chr> & <chr> & <chr> & <chr> & <chr> & <chr> & <chr> & <chr> & <chr> & <dbl>\\\\\n",
       "\\hline\n",
       "\t N & Y & N & N & N & N & N & Y & N & N & N & N & N & 1\\\\\n",
       "\t N & N & N & N & N & N & N & N & N & N & N & N & N & 1\\\\\n",
       "\t N & N & N & N & N & N & N & N & N & N & N & N & N & 1\\\\\n",
       "\t N & Y & N & N & N & N & N & Y & N & N & N & N & N & 1\\\\\n",
       "\t N & N & N & N & N & N & N & N & N & N & N & N & N & 1\\\\\n",
       "\t N & Y & N & N & N & N & N & Y & N & N & N & N & N & 1\\\\\n",
       "\t N & N & N & N & N & N & N & N & N & N & N & N & N & 1\\\\\n",
       "\t N & N & N & N & N & N & N & N & N & N & N & N & N & 0\\\\\n",
       "\t N & N & N & N & N & N & N & N & N & N & N & N & N & 1\\\\\n",
       "\t N & N & N & N & N & N & N & N & N & N & N & N & N & 1\\\\\n",
       "\t N & N & N & N & N & N & N & N & N & N & N & N & N & 1\\\\\n",
       "\t N & N & N & N & N & N & N & N & N & N & N & N & N & 0\\\\\n",
       "\t N & N & N & N & N & N & N & N & N & N & N & N & N & 1\\\\\n",
       "\t N & N & N & N & N & N & N & N & N & N & N & N & N & 1\\\\\n",
       "\t N & Y & N & N & N & N & N & Y & N & N & N & N & N & 1\\\\\n",
       "\t N & Y & N & N & N & N & N & Y & N & N & N & N & N & 1\\\\\n",
       "\t N & Y & N & N & N & N & N & Y & N & N & N & N & N & 1\\\\\n",
       "\t N & N & N & N & N & N & N & N & N & N & N & N & N & 1\\\\\n",
       "\t N & N & N & N & N & N & N & N & N & N & N & N & N & 1\\\\\n",
       "\\end{tabular}\n"
      ],
      "text/markdown": [
       "\n",
       "A data.table: 19 × 14\n",
       "\n",
       "| insulin_b &lt;chr&gt; | metformin_b &lt;chr&gt; | secretagogues_b &lt;chr&gt; | tzd_b &lt;chr&gt; | glycosidase_inhibitors_b &lt;chr&gt; | dpp4_inhibitor_b &lt;chr&gt; | insulin_a &lt;chr&gt; | metformin_a &lt;chr&gt; | secretagogues_a &lt;chr&gt; | tzd_a &lt;chr&gt; | glycosidase_inhibitors_a &lt;chr&gt; | dpp4_inhibitor_a &lt;chr&gt; | steroid_use &lt;chr&gt; | outcome &lt;dbl&gt; |\n",
       "|---|---|---|---|---|---|---|---|---|---|---|---|---|---|\n",
       "| N | Y | N | N | N | N | N | Y | N | N | N | N | N | 1 |\n",
       "| N | N | N | N | N | N | N | N | N | N | N | N | N | 1 |\n",
       "| N | N | N | N | N | N | N | N | N | N | N | N | N | 1 |\n",
       "| N | Y | N | N | N | N | N | Y | N | N | N | N | N | 1 |\n",
       "| N | N | N | N | N | N | N | N | N | N | N | N | N | 1 |\n",
       "| N | Y | N | N | N | N | N | Y | N | N | N | N | N | 1 |\n",
       "| N | N | N | N | N | N | N | N | N | N | N | N | N | 1 |\n",
       "| N | N | N | N | N | N | N | N | N | N | N | N | N | 0 |\n",
       "| N | N | N | N | N | N | N | N | N | N | N | N | N | 1 |\n",
       "| N | N | N | N | N | N | N | N | N | N | N | N | N | 1 |\n",
       "| N | N | N | N | N | N | N | N | N | N | N | N | N | 1 |\n",
       "| N | N | N | N | N | N | N | N | N | N | N | N | N | 0 |\n",
       "| N | N | N | N | N | N | N | N | N | N | N | N | N | 1 |\n",
       "| N | N | N | N | N | N | N | N | N | N | N | N | N | 1 |\n",
       "| N | Y | N | N | N | N | N | Y | N | N | N | N | N | 1 |\n",
       "| N | Y | N | N | N | N | N | Y | N | N | N | N | N | 1 |\n",
       "| N | Y | N | N | N | N | N | Y | N | N | N | N | N | 1 |\n",
       "| N | N | N | N | N | N | N | N | N | N | N | N | N | 1 |\n",
       "| N | N | N | N | N | N | N | N | N | N | N | N | N | 1 |\n",
       "\n"
      ],
      "text/plain": [
       "   insulin_b metformin_b secretagogues_b tzd_b glycosidase_inhibitors_b\n",
       "1  N         Y           N               N     N                       \n",
       "2  N         N           N               N     N                       \n",
       "3  N         N           N               N     N                       \n",
       "4  N         Y           N               N     N                       \n",
       "5  N         N           N               N     N                       \n",
       "6  N         Y           N               N     N                       \n",
       "7  N         N           N               N     N                       \n",
       "8  N         N           N               N     N                       \n",
       "9  N         N           N               N     N                       \n",
       "10 N         N           N               N     N                       \n",
       "11 N         N           N               N     N                       \n",
       "12 N         N           N               N     N                       \n",
       "13 N         N           N               N     N                       \n",
       "14 N         N           N               N     N                       \n",
       "15 N         Y           N               N     N                       \n",
       "16 N         Y           N               N     N                       \n",
       "17 N         Y           N               N     N                       \n",
       "18 N         N           N               N     N                       \n",
       "19 N         N           N               N     N                       \n",
       "   dpp4_inhibitor_b insulin_a metformin_a secretagogues_a tzd_a\n",
       "1  N                N         Y           N               N    \n",
       "2  N                N         N           N               N    \n",
       "3  N                N         N           N               N    \n",
       "4  N                N         Y           N               N    \n",
       "5  N                N         N           N               N    \n",
       "6  N                N         Y           N               N    \n",
       "7  N                N         N           N               N    \n",
       "8  N                N         N           N               N    \n",
       "9  N                N         N           N               N    \n",
       "10 N                N         N           N               N    \n",
       "11 N                N         N           N               N    \n",
       "12 N                N         N           N               N    \n",
       "13 N                N         N           N               N    \n",
       "14 N                N         N           N               N    \n",
       "15 N                N         Y           N               N    \n",
       "16 N                N         Y           N               N    \n",
       "17 N                N         Y           N               N    \n",
       "18 N                N         N           N               N    \n",
       "19 N                N         N           N               N    \n",
       "   glycosidase_inhibitors_a dpp4_inhibitor_a steroid_use outcome\n",
       "1  N                        N                N           1      \n",
       "2  N                        N                N           1      \n",
       "3  N                        N                N           1      \n",
       "4  N                        N                N           1      \n",
       "5  N                        N                N           1      \n",
       "6  N                        N                N           1      \n",
       "7  N                        N                N           1      \n",
       "8  N                        N                N           0      \n",
       "9  N                        N                N           1      \n",
       "10 N                        N                N           1      \n",
       "11 N                        N                N           1      \n",
       "12 N                        N                N           0      \n",
       "13 N                        N                N           1      \n",
       "14 N                        N                N           1      \n",
       "15 N                        N                N           1      \n",
       "16 N                        N                N           1      \n",
       "17 N                        N                N           1      \n",
       "18 N                        N                N           1      \n",
       "19 N                        N                N           1      "
      ]
     },
     "metadata": {},
     "output_type": "display_data"
    },
    {
     "data": {
      "text/plain": [
       "\n",
       "Call:\n",
       "glm(formula = outcome ~ metformin_b, family = binomial, data = met)\n",
       "\n",
       "Deviance Residuals: \n",
       "     Min        1Q    Median        3Q       Max  \n",
       "-1.93484   0.00008   0.57802   0.57802   0.57802  \n",
       "\n",
       "Coefficients:\n",
       "              Estimate Std. Error z value Pr(>|z|)  \n",
       "(Intercept)     1.7047     0.7687   2.218   0.0266 *\n",
       "metformin_bY   17.8613  4390.3075   0.004   0.9968  \n",
       "---\n",
       "Signif. codes:  0 '***' 0.001 '**' 0.01 '*' 0.05 '.' 0.1 ' ' 1\n",
       "\n",
       "(Dispersion parameter for binomial family taken to be 1)\n",
       "\n",
       "    Null deviance: 12.787  on 18  degrees of freedom\n",
       "Residual deviance: 11.162  on 17  degrees of freedom\n",
       "AIC: 15.162\n",
       "\n",
       "Number of Fisher Scoring iterations: 18\n"
      ]
     },
     "metadata": {},
     "output_type": "display_data"
    },
    {
     "data": {
      "text/plain": [
       "\n",
       "Call:\n",
       "glm(formula = outcome ~ metformin_a, family = binomial, data = met)\n",
       "\n",
       "Deviance Residuals: \n",
       "     Min        1Q    Median        3Q       Max  \n",
       "-1.93484   0.00008   0.57802   0.57802   0.57802  \n",
       "\n",
       "Coefficients:\n",
       "              Estimate Std. Error z value Pr(>|z|)  \n",
       "(Intercept)     1.7047     0.7687   2.218   0.0266 *\n",
       "metformin_aY   17.8613  4390.3075   0.004   0.9968  \n",
       "---\n",
       "Signif. codes:  0 '***' 0.001 '**' 0.01 '*' 0.05 '.' 0.1 ' ' 1\n",
       "\n",
       "(Dispersion parameter for binomial family taken to be 1)\n",
       "\n",
       "    Null deviance: 12.787  on 18  degrees of freedom\n",
       "Residual deviance: 11.162  on 17  degrees of freedom\n",
       "AIC: 15.162\n",
       "\n",
       "Number of Fisher Scoring iterations: 18\n"
      ]
     },
     "metadata": {},
     "output_type": "display_data"
    }
   ],
   "source": [
    "#### metformin monotherapy before and after\n",
    "met <- dt_sub[(!dt_sub$`insulin_a` == \"Y\") &\n",
    "                (!dt_sub$`secretagogues_a` == \"Y\") &\n",
    "                (!dt_sub$`tzd_a` == \"Y\") &\n",
    "                (!dt_sub$`glycosidase_inhibitors_a` == \"Y\") &\n",
    "                (!dt_sub$`dpp4_inhibitor_a` == \"Y\") &\n",
    "                (!dt_sub$steroid_use == \"Y\") &\n",
    "                (!dt_sub$`insulin_b` == \"Y\") &\n",
    "                (!dt_sub$`secretagogues_b` == \"Y\") &\n",
    "                (!dt_sub$`tzd_b` == \"Y\") &\n",
    "                (!dt_sub$`glycosidase_inhibitors_b` == \"Y\") &\n",
    "                (!dt_sub$`dpp4_inhibitor_b` == \"Y\") &\n",
    "                (!dt_sub$steroid_use == \"Y\"),]\n",
    "met\n",
    "glm.fit <- glm(outcome ~ `metformin_b`, data = met, family = binomial); summary(glm.fit)\n",
    "glm.fit <- glm(outcome ~ `metformin_a`, data = met, family = binomial); summary(glm.fit)\n"
   ]
  },
  {
   "cell_type": "code",
   "execution_count": 104,
   "metadata": {},
   "outputs": [
    {
     "data": {
      "text/html": [
       "<table>\n",
       "<caption>A data.table: 3 × 4</caption>\n",
       "<thead>\n",
       "\t<tr><th scope=col>metformin_b</th><th scope=col>outcome</th><th scope=col>frequency</th><th scope=col>percent</th></tr>\n",
       "\t<tr><th scope=col>&lt;chr&gt;</th><th scope=col>&lt;dbl&gt;</th><th scope=col>&lt;int&gt;</th><th scope=col>&lt;dbl&gt;</th></tr>\n",
       "</thead>\n",
       "<tbody>\n",
       "\t<tr><td>N</td><td>1</td><td>11</td><td>57.89474</td></tr>\n",
       "\t<tr><td>Y</td><td>1</td><td> 6</td><td>31.57895</td></tr>\n",
       "\t<tr><td>N</td><td>0</td><td> 2</td><td>10.52632</td></tr>\n",
       "</tbody>\n",
       "</table>\n"
      ],
      "text/latex": [
       "A data.table: 3 × 4\n",
       "\\begin{tabular}{r|llll}\n",
       " metformin\\_b & outcome & frequency & percent\\\\\n",
       " <chr> & <dbl> & <int> & <dbl>\\\\\n",
       "\\hline\n",
       "\t N & 1 & 11 & 57.89474\\\\\n",
       "\t Y & 1 &  6 & 31.57895\\\\\n",
       "\t N & 0 &  2 & 10.52632\\\\\n",
       "\\end{tabular}\n"
      ],
      "text/markdown": [
       "\n",
       "A data.table: 3 × 4\n",
       "\n",
       "| metformin_b &lt;chr&gt; | outcome &lt;dbl&gt; | frequency &lt;int&gt; | percent &lt;dbl&gt; |\n",
       "|---|---|---|---|\n",
       "| N | 1 | 11 | 57.89474 |\n",
       "| Y | 1 |  6 | 31.57895 |\n",
       "| N | 0 |  2 | 10.52632 |\n",
       "\n"
      ],
      "text/plain": [
       "  metformin_b outcome frequency percent \n",
       "1 N           1       11        57.89474\n",
       "2 Y           1        6        31.57895\n",
       "3 N           0        2        10.52632"
      ]
     },
     "metadata": {},
     "output_type": "display_data"
    }
   ],
   "source": [
    "freqsdt('met','metformin_b,outcome')[]"
   ]
  },
  {
   "cell_type": "code",
   "execution_count": null,
   "metadata": {},
   "outputs": [],
   "source": []
  },
  {
   "cell_type": "code",
   "execution_count": null,
   "metadata": {},
   "outputs": [],
   "source": [
    "#### metformin monotherapy before and after\n",
    "met <- dt_sub[(!dt_sub$`insulin_a` == \"Y\") &\n",
    "                (!dt_sub$`secretagogues_a` == \"Y\") &\n",
    "                (!dt_sub$`tzd_a` == \"Y\") &\n",
    "                (!dt_sub$`glycosidase_inhibitors_a` == \"Y\") &\n",
    "                (!dt_sub$`dpp4_inhibitor_a` == \"Y\") &\n",
    "                (!dt_sub$steroid_use == \"Y\") &\n",
    "                (!dt_sub$`insulin_b` == \"Y\") &\n",
    "                (!dt_sub$`secretagogues_b` == \"Y\") &\n",
    "                (!dt_sub$`tzd_b` == \"Y\") &\n",
    "                (!dt_sub$`glycosidase_inhibitors_b` == \"Y\") &\n",
    "                (!dt_sub$`dpp4_inhibitor_b` == \"Y\") &\n",
    "                (!dt_sub$steroid_use == \"Y\"),]\n",
    "met\n",
    "glm.fit <- glm(outcome ~ `metformin_b`, data = met, family = binomial); summary(glm.fit)\n",
    "glm.fit <- glm(outcome ~ `metformin_a`, data = met, family = binomial); summary(glm.fit)\n"
   ]
  },
  {
   "cell_type": "code",
   "execution_count": null,
   "metadata": {},
   "outputs": [],
   "source": []
  },
  {
   "cell_type": "code",
   "execution_count": null,
   "metadata": {},
   "outputs": [],
   "source": []
  },
  {
   "cell_type": "code",
   "execution_count": null,
   "metadata": {},
   "outputs": [],
   "source": []
  },
  {
   "cell_type": "code",
   "execution_count": null,
   "metadata": {},
   "outputs": [],
   "source": []
  },
  {
   "cell_type": "code",
   "execution_count": null,
   "metadata": {},
   "outputs": [],
   "source": []
  },
  {
   "cell_type": "code",
   "execution_count": null,
   "metadata": {},
   "outputs": [],
   "source": []
  },
  {
   "cell_type": "code",
   "execution_count": null,
   "metadata": {},
   "outputs": [],
   "source": []
  },
  {
   "cell_type": "code",
   "execution_count": null,
   "metadata": {},
   "outputs": [],
   "source": []
  },
  {
   "cell_type": "code",
   "execution_count": null,
   "metadata": {},
   "outputs": [],
   "source": []
  },
  {
   "cell_type": "markdown",
   "metadata": {},
   "source": [
    "### Match fitted model on age and determine if the independent variables are still significant."
   ]
  },
  {
   "cell_type": "code",
   "execution_count": null,
   "metadata": {},
   "outputs": [],
   "source": [
    "glm.fit <-  glm(metformin_b ~ age, data = dt, family = binomial)#glycosidase_inhibitors_a+steroid_use+\n",
    "summary(glm.fit)"
   ]
  },
  {
   "cell_type": "code",
   "execution_count": null,
   "metadata": {},
   "outputs": [],
   "source": [
    "rr1 <- Match(Y = dt$outcome, Tr = dt$metformin_b, glm.fit$fitted, M=10) # M simulates the number of iterations \n",
    "summary(rr1)"
   ]
  },
  {
   "cell_type": "code",
   "execution_count": null,
   "metadata": {},
   "outputs": [],
   "source": [
    "mb <- MatchBalance(metformin_b ~ age, match.out = rr1, nboots = 0, data = dt)"
   ]
  },
  {
   "cell_type": "code",
   "execution_count": null,
   "metadata": {},
   "outputs": [],
   "source": [
    "freqsdt('dt', 'outcome,metformin_b')[]"
   ]
  },
  {
   "cell_type": "code",
   "execution_count": null,
   "metadata": {},
   "outputs": [],
   "source": []
  },
  {
   "cell_type": "code",
   "execution_count": null,
   "metadata": {},
   "outputs": [],
   "source": []
  },
  {
   "cell_type": "code",
   "execution_count": null,
   "metadata": {},
   "outputs": [],
   "source": []
  }
 ],
 "metadata": {
  "kernelspec": {
   "display_name": "R",
   "language": "R",
   "name": "ir"
  },
  "language_info": {
   "codemirror_mode": "r",
   "file_extension": ".r",
   "mimetype": "text/x-r-source",
   "name": "R",
   "pygments_lexer": "r",
   "version": "3.6.1"
  }
 },
 "nbformat": 4,
 "nbformat_minor": 4
}
